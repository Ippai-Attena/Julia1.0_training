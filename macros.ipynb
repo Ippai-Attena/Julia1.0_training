{
 "cells": [
  {
   "cell_type": "code",
   "execution_count": 1,
   "metadata": {},
   "outputs": [
    {
     "name": "stdout",
     "output_type": "stream",
     "text": [
      "Julia Version 1.0.0\n",
      "Commit 5d4eaca0c9 (2018-08-08 20:58 UTC)\n",
      "Platform Info:\n",
      "  OS: Windows (x86_64-w64-mingw32)\n",
      "  CPU: Intel(R) Core(TM) i5-7200U CPU @ 2.50GHz\n",
      "  WORD_SIZE: 64\n",
      "  LIBM: libopenlibm\n",
      "  LLVM: libLLVM-6.0.0 (ORCJIT, skylake)\n",
      "Environment:\n",
      "  JULIA_PKGDIR = C:\\Users\\chemc\\Julia-0.6.2\\pkg\n"
     ]
    }
   ],
   "source": [
    "versioninfo()"
   ]
  },
  {
   "cell_type": "code",
   "execution_count": 2,
   "metadata": {},
   "outputs": [
    {
     "data": {
      "text/markdown": [
       "No documentation found.\n",
       "\n",
       "`Base.@MIME_str` is a macro.\n",
       "\n",
       "```\n",
       "# 1 method for macro \"@MIME_str\":\n",
       "[1] @MIME_str(__source__::LineNumberNode, __module__::Module, s) in Base at sysimg.jl:191\n",
       "```\n"
      ],
      "text/plain": [
       "  No documentation found.\n",
       "\n",
       "  \u001b[36mBase.@MIME_str\u001b[39m is a macro.\n",
       "\n",
       "\u001b[36m  # 1 method for macro \"@MIME_str\":\u001b[39m\n",
       "\u001b[36m  [1] @MIME_str(__source__::LineNumberNode, __module__::Module, s) in Base at sysimg.jl:191\u001b[39m"
      ]
     },
     "execution_count": 2,
     "metadata": {},
     "output_type": "execute_result"
    }
   ],
   "source": [
    "@doc @MIME_str"
   ]
  },
  {
   "cell_type": "code",
   "execution_count": 3,
   "metadata": {},
   "outputs": [
    {
     "data": {
      "text/markdown": [
       "```\n",
       "@__DIR__ -> AbstractString\n",
       "```\n",
       "\n",
       "Expand to a string with the absolute path to the directory of the file containing the macrocall. Return the current working directory if run from a REPL or if evaluated by `julia -e <expr>`.\n"
      ],
      "text/plain": [
       "\u001b[36m  @__DIR__ -> AbstractString\u001b[39m\n",
       "\n",
       "  Expand to a string with the absolute path to the directory of the file\n",
       "  containing the macrocall. Return the current working directory if run from a\n",
       "  REPL or if evaluated by \u001b[36mjulia -e <expr>\u001b[39m."
      ]
     },
     "execution_count": 3,
     "metadata": {},
     "output_type": "execute_result"
    }
   ],
   "source": [
    "@doc @__DIR__"
   ]
  },
  {
   "cell_type": "code",
   "execution_count": 4,
   "metadata": {},
   "outputs": [
    {
     "data": {
      "text/markdown": [
       "```\n",
       "@__FILE__ -> AbstractString\n",
       "```\n",
       "\n",
       "Expand to a string with the path to the file containing the macrocall, or an empty string if evaluated by `julia -e <expr>`. Return `nothing` if the macro was missing parser source information. Alternatively see [`PROGRAM_FILE`](@ref).\n"
      ],
      "text/plain": [
       "\u001b[36m  @__FILE__ -> AbstractString\u001b[39m\n",
       "\n",
       "  Expand to a string with the path to the file containing the macrocall, or an\n",
       "  empty string if evaluated by \u001b[36mjulia -e <expr>\u001b[39m. Return \u001b[36mnothing\u001b[39m if the macro\n",
       "  was missing parser source information. Alternatively see \u001b[36mPROGRAM_FILE\u001b[39m."
      ]
     },
     "execution_count": 4,
     "metadata": {},
     "output_type": "execute_result"
    }
   ],
   "source": [
    "@doc @__FILE__"
   ]
  },
  {
   "cell_type": "code",
   "execution_count": 5,
   "metadata": {},
   "outputs": [
    {
     "data": {
      "text/markdown": [
       "```\n",
       "@__MODULE__ -> Module\n",
       "```\n",
       "\n",
       "Get the `Module` of the toplevel eval, which is the `Module` code is currently being read from.\n"
      ],
      "text/plain": [
       "\u001b[36m  @__MODULE__ -> Module\u001b[39m\n",
       "\n",
       "  Get the \u001b[36mModule\u001b[39m of the toplevel eval, which is the \u001b[36mModule\u001b[39m code is currently\n",
       "  being read from."
      ]
     },
     "execution_count": 5,
     "metadata": {},
     "output_type": "execute_result"
    }
   ],
   "source": [
    "@doc @__MODULE__"
   ]
  },
  {
   "cell_type": "code",
   "execution_count": 6,
   "metadata": {},
   "outputs": [
    {
     "data": {
      "text/markdown": [
       "```\n",
       "@. expr\n",
       "```\n",
       "\n",
       "Convert every function call or operator in `expr` into a \"dot call\" (e.g. convert `f(x)` to `f.(x)`), and convert every assignment in `expr` to a \"dot assignment\" (e.g. convert `+=` to `.+=`).\n",
       "\n",
       "If you want to *avoid* adding dots for selected function calls in `expr`, splice those function calls in with `$`.  For example, `@. sqrt(abs($sort(x)))` is equivalent to `sqrt.(abs.(sort(x)))` (no dot for `sort`).\n",
       "\n",
       "(`@.` is equivalent to a call to `@__dot__`.)\n",
       "\n",
       "# Examples\n",
       "\n",
       "```jldoctest\n",
       "julia> x = 1.0:3.0; y = similar(x);\n",
       "\n",
       "julia> @. y = x + 3 * sin(x)\n",
       "3-element Array{Float64,1}:\n",
       " 3.5244129544236893\n",
       " 4.727892280477045\n",
       " 3.4233600241796016\n",
       "```\n"
      ],
      "text/plain": [
       "\u001b[36m  @. expr\u001b[39m\n",
       "\n",
       "  Convert every function call or operator in \u001b[36mexpr\u001b[39m into a \"dot call\" (e.g.\n",
       "  convert \u001b[36mf(x)\u001b[39m to \u001b[36mf.(x)\u001b[39m), and convert every assignment in \u001b[36mexpr\u001b[39m to a \"dot\n",
       "  assignment\" (e.g. convert \u001b[36m+=\u001b[39m to \u001b[36m.+=\u001b[39m).\n",
       "\n",
       "  If you want to \u001b[4mavoid\u001b[24m adding dots for selected function calls in \u001b[36mexpr\u001b[39m, splice\n",
       "  those function calls in with \u001b[36m$\u001b[39m. For example, \u001b[36m@. sqrt(abs($sort(x)))\u001b[39m is\n",
       "  equivalent to \u001b[36msqrt.(abs.(sort(x)))\u001b[39m (no dot for \u001b[36msort\u001b[39m).\n",
       "\n",
       "  (\u001b[36m@.\u001b[39m is equivalent to a call to \u001b[36m@__dot__\u001b[39m.)\n",
       "\n",
       "\u001b[1m  Examples\u001b[22m\n",
       "\u001b[1m  ≡≡≡≡≡≡≡≡≡≡\u001b[22m\n",
       "\n",
       "\u001b[36m  julia> x = 1.0:3.0; y = similar(x);\u001b[39m\n",
       "\u001b[36m  \u001b[39m\n",
       "\u001b[36m  julia> @. y = x + 3 * sin(x)\u001b[39m\n",
       "\u001b[36m  3-element Array{Float64,1}:\u001b[39m\n",
       "\u001b[36m   3.5244129544236893\u001b[39m\n",
       "\u001b[36m   4.727892280477045\u001b[39m\n",
       "\u001b[36m   3.4233600241796016\u001b[39m"
      ]
     },
     "execution_count": 6,
     "metadata": {},
     "output_type": "execute_result"
    }
   ],
   "source": [
    "@doc @__dot__"
   ]
  },
  {
   "cell_type": "code",
   "execution_count": 7,
   "metadata": {},
   "outputs": [
    {
     "data": {
      "text/markdown": [
       "```\n",
       "@allocated\n",
       "```\n",
       "\n",
       "A macro to evaluate an expression, discarding the resulting value, instead returning the total number of bytes allocated during evaluation of the expression. Note: the expression is evaluated inside a local function, instead of the current context, in order to eliminate the effects of compilation, however, there still may be some allocations due to JIT compilation. This also makes the results inconsistent with the `@time` macros, which do not try to adjust for the effects of compilation.\n",
       "\n",
       "See also [`@time`](@ref), [`@timev`](@ref), [`@timed`](@ref), and [`@elapsed`](@ref).\n",
       "\n",
       "```julia-repl\n",
       "julia> @allocated rand(10^6)\n",
       "8000080\n",
       "```\n"
      ],
      "text/plain": [
       "\u001b[36m  @allocated\u001b[39m\n",
       "\n",
       "  A macro to evaluate an expression, discarding the resulting value, instead\n",
       "  returning the total number of bytes allocated during evaluation of the\n",
       "  expression. Note: the expression is evaluated inside a local function,\n",
       "  instead of the current context, in order to eliminate the effects of\n",
       "  compilation, however, there still may be some allocations due to JIT\n",
       "  compilation. This also makes the results inconsistent with the \u001b[36m@time\u001b[39m macros,\n",
       "  which do not try to adjust for the effects of compilation.\n",
       "\n",
       "  See also \u001b[36m@time\u001b[39m, \u001b[36m@timev\u001b[39m, \u001b[36m@timed\u001b[39m, and \u001b[36m@elapsed\u001b[39m.\n",
       "\n",
       "\u001b[36m  julia> @allocated rand(10^6)\u001b[39m\n",
       "\u001b[36m  8000080\u001b[39m"
      ]
     },
     "execution_count": 7,
     "metadata": {},
     "output_type": "execute_result"
    }
   ],
   "source": [
    "@doc @allocated"
   ]
  },
  {
   "cell_type": "code",
   "execution_count": 8,
   "metadata": {},
   "outputs": [
    {
     "data": {
      "text/markdown": [
       "```\n",
       "@assert cond [text]\n",
       "```\n",
       "\n",
       "Throw an [`AssertionError`](@ref) if `cond` is `false`. Preferred syntax for writing assertions. Message `text` is optionally displayed upon assertion failure.\n",
       "\n",
       "!!! warning\n",
       "    An assert might be disabled at various optimization levels. Assert should therefore only be used as a debugging tool and not used for authentication verification (e.g., verifying passwords), nor should side effects needed for the function to work correctly be used inside of asserts.\n",
       "\n",
       "\n",
       "# Examples\n",
       "\n",
       "```jldoctest\n",
       "julia> @assert iseven(3) \"3 is an odd number!\"\n",
       "ERROR: AssertionError: 3 is an odd number!\n",
       "\n",
       "julia> @assert isodd(3) \"What even are numbers?\"\n",
       "```\n"
      ],
      "text/plain": [
       "\u001b[36m  @assert cond [text]\u001b[39m\n",
       "\n",
       "  Throw an \u001b[36mAssertionError\u001b[39m if \u001b[36mcond\u001b[39m is \u001b[36mfalse\u001b[39m. Preferred syntax for writing\n",
       "  assertions. Message \u001b[36mtext\u001b[39m is optionally displayed upon assertion failure.\n",
       "\n",
       "\u001b[33m\u001b[1m  │ \u001b[22m\u001b[39m\u001b[33m\u001b[1mWarning\u001b[22m\u001b[39m\n",
       "\u001b[33m\u001b[1m  │\u001b[22m\u001b[39m\n",
       "\u001b[33m\u001b[1m  │\u001b[22m\u001b[39m  An assert might be disabled at various optimization levels. Assert\n",
       "\u001b[33m\u001b[1m  │\u001b[22m\u001b[39m  should therefore only be used as a debugging tool and not used for\n",
       "\u001b[33m\u001b[1m  │\u001b[22m\u001b[39m  authentication verification (e.g., verifying passwords), nor\n",
       "\u001b[33m\u001b[1m  │\u001b[22m\u001b[39m  should side effects needed for the function to work correctly be\n",
       "\u001b[33m\u001b[1m  │\u001b[22m\u001b[39m  used inside of asserts.\n",
       "\n",
       "\u001b[1m  Examples\u001b[22m\n",
       "\u001b[1m  ≡≡≡≡≡≡≡≡≡≡\u001b[22m\n",
       "\n",
       "\u001b[36m  julia> @assert iseven(3) \"3 is an odd number!\"\u001b[39m\n",
       "\u001b[36m  ERROR: AssertionError: 3 is an odd number!\u001b[39m\n",
       "\u001b[36m  \u001b[39m\n",
       "\u001b[36m  julia> @assert isodd(3) \"What even are numbers?\"\u001b[39m"
      ]
     },
     "execution_count": 8,
     "metadata": {},
     "output_type": "execute_result"
    }
   ],
   "source": [
    "@doc @assert"
   ]
  },
  {
   "cell_type": "code",
   "execution_count": 9,
   "metadata": {},
   "outputs": [
    {
     "data": {
      "text/markdown": [
       "```\n",
       "@async\n",
       "```\n",
       "\n",
       "Wrap an expression in a [`Task`](@ref) and add it to the local machine's scheduler queue.\n"
      ],
      "text/plain": [
       "\u001b[36m  @async\u001b[39m\n",
       "\n",
       "  Wrap an expression in a \u001b[36mTask\u001b[39m and add it to the local machine's scheduler\n",
       "  queue."
      ]
     },
     "execution_count": 9,
     "metadata": {},
     "output_type": "execute_result"
    }
   ],
   "source": [
    "@doc @async"
   ]
  },
  {
   "cell_type": "code",
   "execution_count": 10,
   "metadata": {},
   "outputs": [
    {
     "data": {
      "text/markdown": [
       "No documentation found.\n",
       "\n",
       "`Base.@b_str` is a macro.\n",
       "\n",
       "```\n",
       "# 1 method for macro \"@b_str\":\n",
       "[1] @b_str(__source__::LineNumberNode, __module__::Module, s) in Base at strings/io.jl:432\n",
       "```\n"
      ],
      "text/plain": [
       "  No documentation found.\n",
       "\n",
       "  \u001b[36mBase.@b_str\u001b[39m is a macro.\n",
       "\n",
       "\u001b[36m  # 1 method for macro \"@b_str\":\u001b[39m\n",
       "\u001b[36m  [1] @b_str(__source__::LineNumberNode, __module__::Module, s) in Base at strings/io.jl:432\u001b[39m"
      ]
     },
     "execution_count": 10,
     "metadata": {},
     "output_type": "execute_result"
    }
   ],
   "source": [
    "@doc @b_str"
   ]
  },
  {
   "cell_type": "code",
   "execution_count": 11,
   "metadata": {},
   "outputs": [
    {
     "data": {
      "text/markdown": [
       "```\n",
       "@big_str str\n",
       "@big_str(str)\n",
       "```\n",
       "\n",
       "`@big_str` parses a string into a BigInt Throws an `ArgumentError` if the string is not a valid integer Removes all underscores `_` from the string\n"
      ],
      "text/plain": [
       "\u001b[36m  @big_str str\u001b[39m\n",
       "\u001b[36m  @big_str(str)\u001b[39m\n",
       "\n",
       "  \u001b[36m@big_str\u001b[39m parses a string into a BigInt Throws an \u001b[36mArgumentError\u001b[39m if the string\n",
       "  is not a valid integer Removes all underscores \u001b[36m_\u001b[39m from the string"
      ]
     },
     "execution_count": 11,
     "metadata": {},
     "output_type": "execute_result"
    }
   ],
   "source": [
    "@doc @big_str"
   ]
  },
  {
   "cell_type": "code",
   "execution_count": 12,
   "metadata": {},
   "outputs": [
    {
     "data": {
      "text/markdown": [
       "```\n",
       "@boundscheck(blk)\n",
       "```\n",
       "\n",
       "Annotates the expression `blk` as a bounds checking block, allowing it to be elided by [`@inbounds`](@ref).\n",
       "\n",
       "!!! note\n",
       "    The function in which `@boundscheck` is written must be inlined into its caller in order for `@inbounds` to have effect.\n",
       "\n",
       "\n",
       "# Examples\n",
       "\n",
       "```jldoctest; filter = r\"Stacktrace:(\\n \\[[0-9]+\\].*)*\"\n",
       "julia> @inline function g(A, i)\n",
       "           @boundscheck checkbounds(A, i)\n",
       "           return \"accessing ($A)[$i]\"\n",
       "       end;\n",
       "\n",
       "julia> f1() = return g(1:2, -1);\n",
       "\n",
       "julia> f2() = @inbounds return g(1:2, -1);\n",
       "\n",
       "julia> f1()\n",
       "ERROR: BoundsError: attempt to access 2-element UnitRange{Int64} at index [-1]\n",
       "Stacktrace:\n",
       " [1] throw_boundserror(::UnitRange{Int64}, ::Tuple{Int64}) at ./abstractarray.jl:455\n",
       " [2] checkbounds at ./abstractarray.jl:420 [inlined]\n",
       " [3] g at ./none:2 [inlined]\n",
       " [4] f1() at ./none:1\n",
       " [5] top-level scope\n",
       "\n",
       "julia> f2()\n",
       "\"accessing (1:2)[-1]\"\n",
       "```\n",
       "\n",
       "!!! warning\n",
       "    The `@boundscheck` annotation allows you, as a library writer, to opt-in to allowing *other code* to remove your bounds checks with [`@inbounds`](@ref). As noted there, the caller must verify—using information they can access—that their accesses are valid before using `@inbounds`. For indexing into your [`AbstractArray`](@ref) subclasses, for example, this involves checking the indices against its [`size`](@ref). Therefore, `@boundscheck` annotations should only be added to a [`getindex`](@ref) or [`setindex!`](@ref) implementation after you are certain its behavior is correct.\n",
       "\n"
      ],
      "text/plain": [
       "\u001b[36m  @boundscheck(blk)\u001b[39m\n",
       "\n",
       "  Annotates the expression \u001b[36mblk\u001b[39m as a bounds checking block, allowing it to be\n",
       "  elided by \u001b[36m@inbounds\u001b[39m.\n",
       "\n",
       "\u001b[36m\u001b[1m  │ \u001b[22m\u001b[39m\u001b[36m\u001b[1mNote\u001b[22m\u001b[39m\n",
       "\u001b[36m\u001b[1m  │\u001b[22m\u001b[39m\n",
       "\u001b[36m\u001b[1m  │\u001b[22m\u001b[39m  The function in which \u001b[36m@boundscheck\u001b[39m is written must be inlined into\n",
       "\u001b[36m\u001b[1m  │\u001b[22m\u001b[39m  its caller in order for \u001b[36m@inbounds\u001b[39m to have effect.\n",
       "\n",
       "\u001b[1m  Examples\u001b[22m\n",
       "\u001b[1m  ≡≡≡≡≡≡≡≡≡≡\u001b[22m\n",
       "\n",
       "\u001b[36m  julia> @inline function g(A, i)\u001b[39m\n",
       "\u001b[36m             @boundscheck checkbounds(A, i)\u001b[39m\n",
       "\u001b[36m             return \"accessing ($A)[$i]\"\u001b[39m\n",
       "\u001b[36m         end;\u001b[39m\n",
       "\u001b[36m  \u001b[39m\n",
       "\u001b[36m  julia> f1() = return g(1:2, -1);\u001b[39m\n",
       "\u001b[36m  \u001b[39m\n",
       "\u001b[36m  julia> f2() = @inbounds return g(1:2, -1);\u001b[39m\n",
       "\u001b[36m  \u001b[39m\n",
       "\u001b[36m  julia> f1()\u001b[39m\n",
       "\u001b[36m  ERROR: BoundsError: attempt to access 2-element UnitRange{Int64} at index [-1]\u001b[39m\n",
       "\u001b[36m  Stacktrace:\u001b[39m\n",
       "\u001b[36m   [1] throw_boundserror(::UnitRange{Int64}, ::Tuple{Int64}) at ./abstractarray.jl:455\u001b[39m\n",
       "\u001b[36m   [2] checkbounds at ./abstractarray.jl:420 [inlined]\u001b[39m\n",
       "\u001b[36m   [3] g at ./none:2 [inlined]\u001b[39m\n",
       "\u001b[36m   [4] f1() at ./none:1\u001b[39m\n",
       "\u001b[36m   [5] top-level scope\u001b[39m\n",
       "\u001b[36m  \u001b[39m\n",
       "\u001b[36m  julia> f2()\u001b[39m\n",
       "\u001b[36m  \"accessing (1:2)[-1]\"\u001b[39m\n",
       "\n",
       "\u001b[33m\u001b[1m  │ \u001b[22m\u001b[39m\u001b[33m\u001b[1mWarning\u001b[22m\u001b[39m\n",
       "\u001b[33m\u001b[1m  │\u001b[22m\u001b[39m\n",
       "\u001b[33m\u001b[1m  │\u001b[22m\u001b[39m  The \u001b[36m@boundscheck\u001b[39m annotation allows you, as a library writer, to\n",
       "\u001b[33m\u001b[1m  │\u001b[22m\u001b[39m  opt-in to allowing \u001b[4mother code\u001b[24m to remove your bounds checks with\n",
       "\u001b[33m\u001b[1m  │\u001b[22m\u001b[39m  \u001b[36m@inbounds\u001b[39m. As noted there, the caller must verify—using\n",
       "\u001b[33m\u001b[1m  │\u001b[22m\u001b[39m  information they can access—that their accesses are valid before\n",
       "\u001b[33m\u001b[1m  │\u001b[22m\u001b[39m  using \u001b[36m@inbounds\u001b[39m. For indexing into your \u001b[36mAbstractArray\u001b[39m subclasses,\n",
       "\u001b[33m\u001b[1m  │\u001b[22m\u001b[39m  for example, this involves checking the indices against its \u001b[36msize\u001b[39m.\n",
       "\u001b[33m\u001b[1m  │\u001b[22m\u001b[39m  Therefore, \u001b[36m@boundscheck\u001b[39m annotations should only be added to a\n",
       "\u001b[33m\u001b[1m  │\u001b[22m\u001b[39m  \u001b[36mgetindex\u001b[39m or \u001b[36msetindex!\u001b[39m implementation after you are certain its\n",
       "\u001b[33m\u001b[1m  │\u001b[22m\u001b[39m  behavior is correct."
      ]
     },
     "execution_count": 12,
     "metadata": {},
     "output_type": "execute_result"
    }
   ],
   "source": [
    "@doc @boundscheck"
   ]
  },
  {
   "cell_type": "code",
   "execution_count": 13,
   "metadata": {},
   "outputs": [
    {
     "data": {
      "text/markdown": [
       "```\n",
       "@cfunction(callable, ReturnType, (ArgumentTypes...,)) -> Ptr{Cvoid}\n",
       "@cfunction($callable, ReturnType, (ArgumentTypes...,)) -> CFunction\n",
       "```\n",
       "\n",
       "Generate a C-callable function pointer from the Julia function `closure` for the given type signature. To pass the return value to a `ccall`, use the argument type `Ptr{Cvoid}` in the signature.\n",
       "\n",
       "Note that the argument type tuple must be a literal tuple, and not a tuple-valued variable or expression (although it can include a splat expression). And that these arguments will be evaluated in global scope during compile-time (not deferred until runtime). Adding a '$' in front of the function argument changes this to instead create a runtime closure over the local variable `callable`.\n",
       "\n",
       "See [manual section on ccall and cfunction usage](@ref Calling-C-and-Fortran-Code).\n",
       "\n",
       "# Examples\n",
       "\n",
       "```julia-repl\n",
       "julia> function foo(x::Int, y::Int)\n",
       "           return x + y\n",
       "       end\n",
       "\n",
       "julia> @cfunction(foo, Int, (Int, Int))\n",
       "Ptr{Cvoid} @0x000000001b82fcd0\n",
       "```\n"
      ],
      "text/plain": [
       "\u001b[36m  @cfunction(callable, ReturnType, (ArgumentTypes...,)) -> Ptr{Cvoid}\u001b[39m\n",
       "\u001b[36m  @cfunction($callable, ReturnType, (ArgumentTypes...,)) -> CFunction\u001b[39m\n",
       "\n",
       "  Generate a C-callable function pointer from the Julia function \u001b[36mclosure\u001b[39m for\n",
       "  the given type signature. To pass the return value to a \u001b[36mccall\u001b[39m, use the\n",
       "  argument type \u001b[36mPtr{Cvoid}\u001b[39m in the signature.\n",
       "\n",
       "  Note that the argument type tuple must be a literal tuple, and not a\n",
       "  tuple-valued variable or expression (although it can include a splat\n",
       "  expression). And that these arguments will be evaluated in global scope\n",
       "  during compile-time (not deferred until runtime). Adding a '$' in front of\n",
       "  the function argument changes this to instead create a runtime closure over\n",
       "  the local variable \u001b[36mcallable\u001b[39m.\n",
       "\n",
       "  See manual section on ccall and cfunction usage.\n",
       "\n",
       "\u001b[1m  Examples\u001b[22m\n",
       "\u001b[1m  ≡≡≡≡≡≡≡≡≡≡\u001b[22m\n",
       "\n",
       "\u001b[36m  julia> function foo(x::Int, y::Int)\u001b[39m\n",
       "\u001b[36m             return x + y\u001b[39m\n",
       "\u001b[36m         end\u001b[39m\n",
       "\u001b[36m  \u001b[39m\n",
       "\u001b[36m  julia> @cfunction(foo, Int, (Int, Int))\u001b[39m\n",
       "\u001b[36m  Ptr{Cvoid} @0x000000001b82fcd0\u001b[39m"
      ]
     },
     "execution_count": 13,
     "metadata": {},
     "output_type": "execute_result"
    }
   ],
   "source": [
    "@doc @cfunction"
   ]
  },
  {
   "cell_type": "code",
   "execution_count": 14,
   "metadata": {},
   "outputs": [
    {
     "data": {
      "text/markdown": [
       "```\n",
       "@cmd str\n",
       "```\n",
       "\n",
       "Similar to `cmd`, generate a `Cmd` from the `str` string which represents the shell command(s) to be executed. The [`Cmd`](@ref) object can be run as a process and can outlive the spawning julia process (see `Cmd` for more).\n",
       "\n",
       "# Examples\n",
       "\n",
       "```jldoctest\n",
       "julia> cm = @cmd \" echo 1 \"\n",
       "`echo 1`\n",
       "\n",
       "julia> run(cm)\n",
       "1\n",
       "Process(`echo 1`, ProcessExited(0))\n",
       "```\n"
      ],
      "text/plain": [
       "\u001b[36m  @cmd str\u001b[39m\n",
       "\n",
       "  Similar to \u001b[36mcmd\u001b[39m, generate a \u001b[36mCmd\u001b[39m from the \u001b[36mstr\u001b[39m string which represents the\n",
       "  shell command(s) to be executed. The \u001b[36mCmd\u001b[39m object can be run as a process and\n",
       "  can outlive the spawning julia process (see \u001b[36mCmd\u001b[39m for more).\n",
       "\n",
       "\u001b[1m  Examples\u001b[22m\n",
       "\u001b[1m  ≡≡≡≡≡≡≡≡≡≡\u001b[22m\n",
       "\n",
       "\u001b[36m  julia> cm = @cmd \" echo 1 \"\u001b[39m\n",
       "\u001b[36m  `echo 1`\u001b[39m\n",
       "\u001b[36m  \u001b[39m\n",
       "\u001b[36m  julia> run(cm)\u001b[39m\n",
       "\u001b[36m  1\u001b[39m\n",
       "\u001b[36m  Process(`echo 1`, ProcessExited(0))\u001b[39m"
      ]
     },
     "execution_count": 14,
     "metadata": {},
     "output_type": "execute_result"
    }
   ],
   "source": [
    "@doc @cmd"
   ]
  },
  {
   "cell_type": "code",
   "execution_count": 15,
   "metadata": {},
   "outputs": [
    {
     "data": {
      "text/markdown": [
       "```\n",
       "@code_llvm\n",
       "```\n",
       "\n",
       "Evaluates the arguments to the function or macro call, determines their types, and calls [`code_llvm`](@ref) on the resulting expression. Set the optional keyword arguments `raw`, `dump_module` and `optimize` by putting them and their value before the function call, like this:\n",
       "\n",
       "```\n",
       "@code_llvm raw=true dump_module=true f(x)\n",
       "@code_llvm optimize=false f(x)\n",
       "```\n",
       "\n",
       "`optimize` controls whether additional optimizations, such as inlining, are also applied. `raw` makes all metadata and dbg.* calls visible. `dump_module` prints the entire module that encapsulates the function, with debug info and metadata.\n"
      ],
      "text/plain": [
       "\u001b[36m  @code_llvm\u001b[39m\n",
       "\n",
       "  Evaluates the arguments to the function or macro call, determines their\n",
       "  types, and calls \u001b[36mcode_llvm\u001b[39m on the resulting expression. Set the optional\n",
       "  keyword arguments \u001b[36mraw\u001b[39m, \u001b[36mdump_module\u001b[39m and \u001b[36moptimize\u001b[39m by putting them and their\n",
       "  value before the function call, like this:\n",
       "\n",
       "\u001b[36m  @code_llvm raw=true dump_module=true f(x)\u001b[39m\n",
       "\u001b[36m  @code_llvm optimize=false f(x)\u001b[39m\n",
       "\n",
       "  \u001b[36moptimize\u001b[39m controls whether additional optimizations, such as inlining, are\n",
       "  also applied. \u001b[36mraw\u001b[39m makes all metadata and dbg.* calls visible. \u001b[36mdump_module\u001b[39m\n",
       "  prints the entire module that encapsulates the function, with debug info and\n",
       "  metadata."
      ]
     },
     "execution_count": 15,
     "metadata": {},
     "output_type": "execute_result"
    }
   ],
   "source": [
    "@doc @code_llvm"
   ]
  },
  {
   "cell_type": "code",
   "execution_count": 16,
   "metadata": {},
   "outputs": [
    {
     "name": "stdout",
     "output_type": "stream",
     "text": [
      "\n",
      "; Function addition\n",
      "; Location: In[16]:2\n",
      "; Function Attrs: uwtable\n",
      "define i64 @julia_addition_34856(i64, i64) #0 {\n",
      "top:\n",
      "; Function +; {\n",
      "; Location: int.jl:53\n",
      "  %2 = add i64 %1, %0\n",
      ";}\n",
      "  ret i64 %2\n",
      "}\n"
     ]
    }
   ],
   "source": [
    "function addition(a,b)\n",
    "    a+b\n",
    "end\n",
    "@code_llvm addition(1,1)"
   ]
  },
  {
   "cell_type": "code",
   "execution_count": 17,
   "metadata": {},
   "outputs": [
    {
     "data": {
      "text/markdown": [
       "```\n",
       "@code_lowered\n",
       "```\n",
       "\n",
       "Evaluates the arguments to the function or macro call, determines their types, and calls [`code_lowered`](@ref) on the resulting expression.\n"
      ],
      "text/plain": [
       "\u001b[36m  @code_lowered\u001b[39m\n",
       "\n",
       "  Evaluates the arguments to the function or macro call, determines their\n",
       "  types, and calls \u001b[36mcode_lowered\u001b[39m on the resulting expression."
      ]
     },
     "execution_count": 17,
     "metadata": {},
     "output_type": "execute_result"
    }
   ],
   "source": [
    "@doc @code_lowered"
   ]
  },
  {
   "cell_type": "code",
   "execution_count": 18,
   "metadata": {},
   "outputs": [
    {
     "data": {
      "text/markdown": [
       "```\n",
       "@code_native\n",
       "```\n",
       "\n",
       "Evaluates the arguments to the function or macro call, determines their types, and calls [`code_native`](@ref) on the resulting expression.\n"
      ],
      "text/plain": [
       "\u001b[36m  @code_native\u001b[39m\n",
       "\n",
       "  Evaluates the arguments to the function or macro call, determines their\n",
       "  types, and calls \u001b[36mcode_native\u001b[39m on the resulting expression."
      ]
     },
     "execution_count": 18,
     "metadata": {},
     "output_type": "execute_result"
    }
   ],
   "source": [
    "@doc @code_native"
   ]
  },
  {
   "cell_type": "code",
   "execution_count": 19,
   "metadata": {},
   "outputs": [
    {
     "data": {
      "text/markdown": [
       "```\n",
       "@code_typed\n",
       "```\n",
       "\n",
       "Evaluates the arguments to the function or macro call, determines their types, and calls [`code_typed`](@ref) on the resulting expression. Use the optional argument `optimize` with\n",
       "\n",
       "```\n",
       "@code_typed optimize=true foo(x)\n",
       "```\n",
       "\n",
       "to control whether additional optimizations, such as inlining, are also applied.\n"
      ],
      "text/plain": [
       "\u001b[36m  @code_typed\u001b[39m\n",
       "\n",
       "  Evaluates the arguments to the function or macro call, determines their\n",
       "  types, and calls \u001b[36mcode_typed\u001b[39m on the resulting expression. Use the optional\n",
       "  argument \u001b[36moptimize\u001b[39m with\n",
       "\n",
       "\u001b[36m  @code_typed optimize=true foo(x)\u001b[39m\n",
       "\n",
       "  to control whether additional optimizations, such as inlining, are also\n",
       "  applied."
      ]
     },
     "execution_count": 19,
     "metadata": {},
     "output_type": "execute_result"
    }
   ],
   "source": [
    "@doc @code_typed"
   ]
  },
  {
   "cell_type": "code",
   "execution_count": 20,
   "metadata": {},
   "outputs": [
    {
     "data": {
      "text/plain": [
       "CodeInfo(\n",
       "\u001b[90m\u001b[74G│╻ +\u001b[1G\u001b[39m\u001b[90m2 \u001b[39m1 ─ %1 = (Base.add_int)(a, b)\u001b[36m::Int64\u001b[39m\n",
       "\u001b[90m\u001b[74G│ \u001b[1G\u001b[39m\u001b[90m  \u001b[39m└──      return %1\n",
       ") => Int64"
      ]
     },
     "execution_count": 20,
     "metadata": {},
     "output_type": "execute_result"
    }
   ],
   "source": [
    "@code_typed addition(1,1)"
   ]
  },
  {
   "cell_type": "code",
   "execution_count": 21,
   "metadata": {},
   "outputs": [
    {
     "data": {
      "text/markdown": [
       "```\n",
       "@code_warntype\n",
       "```\n",
       "\n",
       "Evaluates the arguments to the function or macro call, determines their types, and calls [`code_warntype`](@ref) on the resulting expression.\n"
      ],
      "text/plain": [
       "\u001b[36m  @code_warntype\u001b[39m\n",
       "\n",
       "  Evaluates the arguments to the function or macro call, determines their\n",
       "  types, and calls \u001b[36mcode_warntype\u001b[39m on the resulting expression."
      ]
     },
     "execution_count": 21,
     "metadata": {},
     "output_type": "execute_result"
    }
   ],
   "source": [
    "@doc @code_warntype"
   ]
  },
  {
   "cell_type": "code",
   "execution_count": 22,
   "metadata": {},
   "outputs": [
    {
     "name": "stdout",
     "output_type": "stream",
     "text": [
      "Body\u001b[36m::Int64\u001b[39m\n",
      "\u001b[90m\u001b[74G│╻ +\u001b[1G\u001b[39m\u001b[90m2 \u001b[39m1 ─ %1 = (Base.add_int)(a, b)\u001b[36m::Int64\u001b[39m\n",
      "\u001b[90m\u001b[74G│ \u001b[1G\u001b[39m\u001b[90m  \u001b[39m└──      return %1\n"
     ]
    }
   ],
   "source": [
    "@code_warntype addition(1,1)"
   ]
  },
  {
   "cell_type": "code",
   "execution_count": 23,
   "metadata": {},
   "outputs": [
    {
     "name": "stdout",
     "output_type": "stream",
     "text": [
      "Body\u001b[36m::Union{}\u001b[39m\n",
      "\u001b[90m\u001b[77G│\u001b[1G\u001b[39m\u001b[90m2 \u001b[39m1 ─     (a + b)\n",
      "\u001b[90m\u001b[77G│\u001b[1G\u001b[39m\u001b[90m  \u001b[39m│       $(Expr(:unreachable))\n",
      "\u001b[90m\u001b[77G│\u001b[1G\u001b[39m\u001b[90m  \u001b[39m└──     $(Expr(:unreachable))\n"
     ]
    }
   ],
   "source": [
    "@code_warntype addition(1,\"a\")"
   ]
  },
  {
   "cell_type": "code",
   "execution_count": 24,
   "metadata": {},
   "outputs": [
    {
     "data": {
      "text/markdown": [
       "```\n",
       "@debug message  [key=value | value ...]\n",
       "@info  message  [key=value | value ...]\n",
       "@warn  message  [key=value | value ...]\n",
       "@error message  [key=value | value ...]\n",
       "\n",
       "@logmsg level message [key=value | value ...]\n",
       "```\n",
       "\n",
       "Create a log record with an informational `message`.  For convenience, four logging macros `@debug`, `@info`, `@warn` and `@error` are defined which log at the standard severity levels `Debug`, `Info`, `Warn` and `Error`.  `@logmsg` allows `level` to be set programmatically to any `LogLevel` or custom log level types.\n",
       "\n",
       "`message` should be an expression which evaluates to a string which is a human readable description of the log event.  By convention, this string will be formatted as markdown when presented.\n",
       "\n",
       "The optional list of `key=value` pairs supports arbitrary user defined metadata which will be passed through to the logging backend as part of the log record.  If only a `value` expression is supplied, a key representing the expression will be generated using `Symbol`. For example, `x` becomes `x=x`, and `foo(10)` becomes `Symbol(\"foo(10)\")=foo(10)`.  For splatting a list of key value pairs, use the normal splatting syntax, `@info \"blah\" kws...`.\n",
       "\n",
       "There are some keys which allow automatically generated log data to be overridden:\n",
       "\n",
       "  * `_module=mod` can be used to specify a different originating module from the source location of the message.\n",
       "  * `_group=symbol` can be used to override the message group (this is normally derived from the base name of the source file).\n",
       "  * `_id=symbol` can be used to override the automatically generated unique message identifier.  This is useful if you need to very closely associate messages generated on different source lines.\n",
       "  * `_file=string` and `_line=integer` can be used to override the apparent source location of a log message.\n",
       "\n",
       "There's also some key value pairs which have conventional meaning:\n",
       "\n",
       "  * `maxlog=integer` should be used as a hint to the backend that the message should be displayed no more than `maxlog` times.\n",
       "  * `exception=ex` should be used to transport an exception with a log message, often used with `@error`. An associated backtrace `bt` may be attached using the tuple `exception=(ex,bt)`.\n",
       "\n",
       "# Examples\n",
       "\n",
       "```\n",
       "@debug \"Verbose debugging information.  Invisible by default\"\n",
       "@info  \"An informational message\"\n",
       "@warn  \"Something was odd.  You should pay attention\"\n",
       "@error \"A non fatal error occurred\"\n",
       "\n",
       "x = 10\n",
       "@info \"Some variables attached to the message\" x a=42.0\n",
       "\n",
       "@debug begin\n",
       "    sA = sum(A)\n",
       "    \"sum(A) = $sA is an expensive operation, evaluated only when `shouldlog` returns true\"\n",
       "end\n",
       "\n",
       "for i=1:10000\n",
       "    @info \"With the default backend, you will only see (i = $i) ten times\"  maxlog=10\n",
       "    @debug \"Algorithm1\" i progress=i/10000\n",
       "end\n",
       "```\n"
      ],
      "text/plain": [
       "\u001b[36m  @debug message  [key=value | value ...]\u001b[39m\n",
       "\u001b[36m  @info  message  [key=value | value ...]\u001b[39m\n",
       "\u001b[36m  @warn  message  [key=value | value ...]\u001b[39m\n",
       "\u001b[36m  @error message  [key=value | value ...]\u001b[39m\n",
       "\u001b[36m  \u001b[39m\n",
       "\u001b[36m  @logmsg level message [key=value | value ...]\u001b[39m\n",
       "\n",
       "  Create a log record with an informational \u001b[36mmessage\u001b[39m. For convenience, four\n",
       "  logging macros \u001b[36m@debug\u001b[39m, \u001b[36m@info\u001b[39m, \u001b[36m@warn\u001b[39m and \u001b[36m@error\u001b[39m are defined which log at the\n",
       "  standard severity levels \u001b[36mDebug\u001b[39m, \u001b[36mInfo\u001b[39m, \u001b[36mWarn\u001b[39m and \u001b[36mError\u001b[39m. \u001b[36m@logmsg\u001b[39m allows \u001b[36mlevel\u001b[39m\n",
       "  to be set programmatically to any \u001b[36mLogLevel\u001b[39m or custom log level types.\n",
       "\n",
       "  \u001b[36mmessage\u001b[39m should be an expression which evaluates to a string which is a human\n",
       "  readable description of the log event. By convention, this string will be\n",
       "  formatted as markdown when presented.\n",
       "\n",
       "  The optional list of \u001b[36mkey=value\u001b[39m pairs supports arbitrary user defined\n",
       "  metadata which will be passed through to the logging backend as part of the\n",
       "  log record. If only a \u001b[36mvalue\u001b[39m expression is supplied, a key representing the\n",
       "  expression will be generated using \u001b[36mSymbol\u001b[39m. For example, \u001b[36mx\u001b[39m becomes \u001b[36mx=x\u001b[39m, and\n",
       "  \u001b[36mfoo(10)\u001b[39m becomes \u001b[36mSymbol(\"foo(10)\")=foo(10)\u001b[39m. For splatting a list of key value\n",
       "  pairs, use the normal splatting syntax, \u001b[36m@info \"blah\" kws...\u001b[39m.\n",
       "\n",
       "  There are some keys which allow automatically generated log data to be\n",
       "  overridden:\n",
       "\n",
       "    •    \u001b[36m_module=mod\u001b[39m can be used to specify a different originating module\n",
       "        from the source location of the message.\n",
       "\n",
       "    •    \u001b[36m_group=symbol\u001b[39m can be used to override the message group (this is\n",
       "        normally derived from the base name of the source file).\n",
       "\n",
       "    •    \u001b[36m_id=symbol\u001b[39m can be used to override the automatically generated\n",
       "        unique message identifier. This is useful if you need to very\n",
       "        closely associate messages generated on different source lines.\n",
       "\n",
       "    •    \u001b[36m_file=string\u001b[39m and \u001b[36m_line=integer\u001b[39m can be used to override the\n",
       "        apparent source location of a log message.\n",
       "\n",
       "  There's also some key value pairs which have conventional meaning:\n",
       "\n",
       "    •    \u001b[36mmaxlog=integer\u001b[39m should be used as a hint to the backend that the\n",
       "        message should be displayed no more than \u001b[36mmaxlog\u001b[39m times.\n",
       "\n",
       "    •    \u001b[36mexception=ex\u001b[39m should be used to transport an exception with a log\n",
       "        message, often used with \u001b[36m@error\u001b[39m. An associated backtrace \u001b[36mbt\u001b[39m may be\n",
       "        attached using the tuple \u001b[36mexception=(ex,bt)\u001b[39m.\n",
       "\n",
       "\u001b[1m  Examples\u001b[22m\n",
       "\u001b[1m  ≡≡≡≡≡≡≡≡≡≡\u001b[22m\n",
       "\n",
       "\u001b[36m  @debug \"Verbose debugging information.  Invisible by default\"\u001b[39m\n",
       "\u001b[36m  @info  \"An informational message\"\u001b[39m\n",
       "\u001b[36m  @warn  \"Something was odd.  You should pay attention\"\u001b[39m\n",
       "\u001b[36m  @error \"A non fatal error occurred\"\u001b[39m\n",
       "\u001b[36m  \u001b[39m\n",
       "\u001b[36m  x = 10\u001b[39m\n",
       "\u001b[36m  @info \"Some variables attached to the message\" x a=42.0\u001b[39m\n",
       "\u001b[36m  \u001b[39m\n",
       "\u001b[36m  @debug begin\u001b[39m\n",
       "\u001b[36m      sA = sum(A)\u001b[39m\n",
       "\u001b[36m      \"sum(A) = $sA is an expensive operation, evaluated only when `shouldlog` returns true\"\u001b[39m\n",
       "\u001b[36m  end\u001b[39m\n",
       "\u001b[36m  \u001b[39m\n",
       "\u001b[36m  for i=1:10000\u001b[39m\n",
       "\u001b[36m      @info \"With the default backend, you will only see (i = $i) ten times\"  maxlog=10\u001b[39m\n",
       "\u001b[36m      @debug \"Algorithm1\" i progress=i/10000\u001b[39m\n",
       "\u001b[36m  end\u001b[39m"
      ]
     },
     "execution_count": 24,
     "metadata": {},
     "output_type": "execute_result"
    }
   ],
   "source": [
    "@doc @debug"
   ]
  },
  {
   "cell_type": "code",
   "execution_count": 25,
   "metadata": {
    "scrolled": true
   },
   "outputs": [
    {
     "name": "stderr",
     "output_type": "stream",
     "text": [
      "┌ Info: An informational message\n",
      "└ @ Main In[25]:2\n",
      "┌ Warning: Something was odd.  You should pay attention\n",
      "└ @ Main In[25]:3\n",
      "┌ Error: A non fatal error occurred\n",
      "└ @ Main In[25]:4\n",
      "┌ Info: Some variables attached to the message\n",
      "│   x = 10\n",
      "│   a = 42.0\n",
      "└ @ Main In[25]:7\n",
      "┌ Info: With the default backend, you will only see (i = 1) ten times\n",
      "└ @ Main In[25]:15\n",
      "┌ Info: With the default backend, you will only see (i = 2) ten times\n",
      "└ @ Main In[25]:15\n",
      "┌ Info: With the default backend, you will only see (i = 3) ten times\n",
      "└ @ Main In[25]:15\n",
      "┌ Info: With the default backend, you will only see (i = 4) ten times\n",
      "└ @ Main In[25]:15\n",
      "┌ Info: With the default backend, you will only see (i = 5) ten times\n",
      "└ @ Main In[25]:15\n",
      "┌ Info: With the default backend, you will only see (i = 6) ten times\n",
      "└ @ Main In[25]:15\n",
      "┌ Info: With the default backend, you will only see (i = 7) ten times\n",
      "└ @ Main In[25]:15\n",
      "┌ Info: With the default backend, you will only see (i = 8) ten times\n",
      "└ @ Main In[25]:15\n",
      "┌ Info: With the default backend, you will only see (i = 9) ten times\n",
      "└ @ Main In[25]:15\n",
      "┌ Info: With the default backend, you will only see (i = 10) ten times\n",
      "└ @ Main In[25]:15\n"
     ]
    }
   ],
   "source": [
    "@debug \"Verbose debugging information.  Invisible by default\"\n",
    "@info  \"An informational message\"\n",
    "@warn  \"Something was odd.  You should pay attention\"\n",
    "@error \"A non fatal error occurred\"\n",
    "\n",
    "x = 10\n",
    "@info \"Some variables attached to the message\" x a=42.0\n",
    "\n",
    "@debug begin\n",
    "    sA = sum(A)\n",
    "    \"sum(A) = $sA is an expensive operation, evaluated only when `shouldlog` returns true\"\n",
    "end\n",
    "\n",
    "for i=1:10\n",
    "    @info \"With the default backend, you will only see (i = $i) ten times\"  maxlog=10\n",
    "    @debug \"Algorithm1\" i progress=i/10\n",
    "end"
   ]
  },
  {
   "cell_type": "code",
   "execution_count": 26,
   "metadata": {},
   "outputs": [
    {
     "data": {
      "text/markdown": [
       "No documentation found.\n",
       "\n",
       "`Base.@deprecate` is a macro.\n",
       "\n",
       "```\n",
       "# 2 methods for macro \"@deprecate\":\n",
       "[1] @deprecate(__source__::LineNumberNode, __module__::Module, old, new) in Base at deprecated.jl:22\n",
       "[2] @deprecate(__source__::LineNumberNode, __module__::Module, old, new, ex) in Base at deprecated.jl:22\n",
       "```\n"
      ],
      "text/plain": [
       "  No documentation found.\n",
       "\n",
       "  \u001b[36mBase.@deprecate\u001b[39m is a macro.\n",
       "\n",
       "\u001b[36m  # 2 methods for macro \"@deprecate\":\u001b[39m\n",
       "\u001b[36m  [1] @deprecate(__source__::LineNumberNode, __module__::Module, old, new) in Base at deprecated.jl:22\u001b[39m\n",
       "\u001b[36m  [2] @deprecate(__source__::LineNumberNode, __module__::Module, old, new, ex) in Base at deprecated.jl:22\u001b[39m"
      ]
     },
     "execution_count": 26,
     "metadata": {},
     "output_type": "execute_result"
    }
   ],
   "source": [
    "@doc @deprecate"
   ]
  },
  {
   "cell_type": "code",
   "execution_count": 27,
   "metadata": {},
   "outputs": [
    {
     "data": {
      "text/markdown": [
       "```\n",
       "@edit\n",
       "```\n",
       "\n",
       "Evaluates the arguments to the function or macro call, determines their types, and calls the `edit` function on the resulting expression.\n"
      ],
      "text/plain": [
       "\u001b[36m  @edit\u001b[39m\n",
       "\n",
       "  Evaluates the arguments to the function or macro call, determines their\n",
       "  types, and calls the \u001b[36medit\u001b[39m function on the resulting expression."
      ]
     },
     "execution_count": 27,
     "metadata": {},
     "output_type": "execute_result"
    }
   ],
   "source": [
    "@doc @edit"
   ]
  },
  {
   "cell_type": "code",
   "execution_count": 28,
   "metadata": {},
   "outputs": [
    {
     "data": {
      "text/markdown": [
       "```\n",
       "@elapsed\n",
       "```\n",
       "\n",
       "A macro to evaluate an expression, discarding the resulting value, instead returning the number of seconds it took to execute as a floating-point number.\n",
       "\n",
       "See also [`@time`](@ref), [`@timev`](@ref), [`@timed`](@ref), and [`@allocated`](@ref).\n",
       "\n",
       "```julia-repl\n",
       "julia> @elapsed sleep(0.3)\n",
       "0.301391426\n",
       "```\n"
      ],
      "text/plain": [
       "\u001b[36m  @elapsed\u001b[39m\n",
       "\n",
       "  A macro to evaluate an expression, discarding the resulting value, instead\n",
       "  returning the number of seconds it took to execute as a floating-point\n",
       "  number.\n",
       "\n",
       "  See also \u001b[36m@time\u001b[39m, \u001b[36m@timev\u001b[39m, \u001b[36m@timed\u001b[39m, and \u001b[36m@allocated\u001b[39m.\n",
       "\n",
       "\u001b[36m  julia> @elapsed sleep(0.3)\u001b[39m\n",
       "\u001b[36m  0.301391426\u001b[39m"
      ]
     },
     "execution_count": 28,
     "metadata": {},
     "output_type": "execute_result"
    }
   ],
   "source": [
    "@doc @elapsed"
   ]
  },
  {
   "cell_type": "code",
   "execution_count": 29,
   "metadata": {},
   "outputs": [
    {
     "data": {
      "text/markdown": [
       "```\n",
       "@enum EnumName[::BaseType] value1[=x] value2[=y]\n",
       "```\n",
       "\n",
       "Create an `Enum{BaseType}` subtype with name `EnumName` and enum member values of `value1` and `value2` with optional assigned values of `x` and `y`, respectively. `EnumName` can be used just like other types and enum member values as regular values, such as\n",
       "\n",
       "# Examples\n",
       "\n",
       "```jldoctest fruitenum\n",
       "julia> @enum Fruit apple=1 orange=2 kiwi=3\n",
       "\n",
       "julia> f(x::Fruit) = \"I'm a Fruit with value: $(Int(x))\"\n",
       "f (generic function with 1 method)\n",
       "\n",
       "julia> f(apple)\n",
       "\"I'm a Fruit with value: 1\"\n",
       "```\n",
       "\n",
       "Values can also be specified inside a `begin` block, e.g.\n",
       "\n",
       "```julia\n",
       "@enum EnumName begin\n",
       "    value1\n",
       "    value2\n",
       "end\n",
       "```\n",
       "\n",
       "`BaseType`, which defaults to [`Int32`](@ref), must be a primitive subtype of `Integer`. Member values can be converted between the enum type and `BaseType`. `read` and `write` perform these conversions automatically.\n",
       "\n",
       "To list all the instances of an enum use `instances`, e.g.\n",
       "\n",
       "```jldoctest fruitenum\n",
       "julia> instances(Fruit)\n",
       "(apple::Fruit = 1, orange::Fruit = 2, kiwi::Fruit = 3)\n",
       "```\n"
      ],
      "text/plain": [
       "\u001b[36m  @enum EnumName[::BaseType] value1[=x] value2[=y]\u001b[39m\n",
       "\n",
       "  Create an \u001b[36mEnum{BaseType}\u001b[39m subtype with name \u001b[36mEnumName\u001b[39m and enum member values\n",
       "  of \u001b[36mvalue1\u001b[39m and \u001b[36mvalue2\u001b[39m with optional assigned values of \u001b[36mx\u001b[39m and \u001b[36my\u001b[39m, respectively.\n",
       "  \u001b[36mEnumName\u001b[39m can be used just like other types and enum member values as regular\n",
       "  values, such as\n",
       "\n",
       "\u001b[1m  Examples\u001b[22m\n",
       "\u001b[1m  ≡≡≡≡≡≡≡≡≡≡\u001b[22m\n",
       "\n",
       "\u001b[36m  julia> @enum Fruit apple=1 orange=2 kiwi=3\u001b[39m\n",
       "\u001b[36m  \u001b[39m\n",
       "\u001b[36m  julia> f(x::Fruit) = \"I'm a Fruit with value: $(Int(x))\"\u001b[39m\n",
       "\u001b[36m  f (generic function with 1 method)\u001b[39m\n",
       "\u001b[36m  \u001b[39m\n",
       "\u001b[36m  julia> f(apple)\u001b[39m\n",
       "\u001b[36m  \"I'm a Fruit with value: 1\"\u001b[39m\n",
       "\n",
       "  Values can also be specified inside a \u001b[36mbegin\u001b[39m block, e.g.\n",
       "\n",
       "\u001b[36m  @enum EnumName begin\u001b[39m\n",
       "\u001b[36m      value1\u001b[39m\n",
       "\u001b[36m      value2\u001b[39m\n",
       "\u001b[36m  end\u001b[39m\n",
       "\n",
       "  \u001b[36mBaseType\u001b[39m, which defaults to \u001b[36mInt32\u001b[39m, must be a primitive subtype of \u001b[36mInteger\u001b[39m.\n",
       "  Member values can be converted between the enum type and \u001b[36mBaseType\u001b[39m. \u001b[36mread\u001b[39m and\n",
       "  \u001b[36mwrite\u001b[39m perform these conversions automatically.\n",
       "\n",
       "  To list all the instances of an enum use \u001b[36minstances\u001b[39m, e.g.\n",
       "\n",
       "\u001b[36m  julia> instances(Fruit)\u001b[39m\n",
       "\u001b[36m  (apple::Fruit = 1, orange::Fruit = 2, kiwi::Fruit = 3)\u001b[39m"
      ]
     },
     "execution_count": 29,
     "metadata": {},
     "output_type": "execute_result"
    }
   ],
   "source": [
    "@doc @enum"
   ]
  },
  {
   "cell_type": "code",
   "execution_count": 30,
   "metadata": {},
   "outputs": [
    {
     "data": {
      "text/plain": [
       "\"I'm a Fruit with value: 1\""
      ]
     },
     "execution_count": 30,
     "metadata": {},
     "output_type": "execute_result"
    }
   ],
   "source": [
    "@enum Fruit apple=1 orange=2 kiwi=3\n",
    "f(x::Fruit) = \"I'm a Fruit with value: $(Int(x))\"\n",
    "f(apple)"
   ]
  },
  {
   "cell_type": "code",
   "execution_count": 31,
   "metadata": {},
   "outputs": [
    {
     "data": {
      "text/markdown": [
       "```\n",
       "@debug message  [key=value | value ...]\n",
       "@info  message  [key=value | value ...]\n",
       "@warn  message  [key=value | value ...]\n",
       "@error message  [key=value | value ...]\n",
       "\n",
       "@logmsg level message [key=value | value ...]\n",
       "```\n",
       "\n",
       "Create a log record with an informational `message`.  For convenience, four logging macros `@debug`, `@info`, `@warn` and `@error` are defined which log at the standard severity levels `Debug`, `Info`, `Warn` and `Error`.  `@logmsg` allows `level` to be set programmatically to any `LogLevel` or custom log level types.\n",
       "\n",
       "`message` should be an expression which evaluates to a string which is a human readable description of the log event.  By convention, this string will be formatted as markdown when presented.\n",
       "\n",
       "The optional list of `key=value` pairs supports arbitrary user defined metadata which will be passed through to the logging backend as part of the log record.  If only a `value` expression is supplied, a key representing the expression will be generated using `Symbol`. For example, `x` becomes `x=x`, and `foo(10)` becomes `Symbol(\"foo(10)\")=foo(10)`.  For splatting a list of key value pairs, use the normal splatting syntax, `@info \"blah\" kws...`.\n",
       "\n",
       "There are some keys which allow automatically generated log data to be overridden:\n",
       "\n",
       "  * `_module=mod` can be used to specify a different originating module from the source location of the message.\n",
       "  * `_group=symbol` can be used to override the message group (this is normally derived from the base name of the source file).\n",
       "  * `_id=symbol` can be used to override the automatically generated unique message identifier.  This is useful if you need to very closely associate messages generated on different source lines.\n",
       "  * `_file=string` and `_line=integer` can be used to override the apparent source location of a log message.\n",
       "\n",
       "There's also some key value pairs which have conventional meaning:\n",
       "\n",
       "  * `maxlog=integer` should be used as a hint to the backend that the message should be displayed no more than `maxlog` times.\n",
       "  * `exception=ex` should be used to transport an exception with a log message, often used with `@error`. An associated backtrace `bt` may be attached using the tuple `exception=(ex,bt)`.\n",
       "\n",
       "# Examples\n",
       "\n",
       "```\n",
       "@debug \"Verbose debugging information.  Invisible by default\"\n",
       "@info  \"An informational message\"\n",
       "@warn  \"Something was odd.  You should pay attention\"\n",
       "@error \"A non fatal error occurred\"\n",
       "\n",
       "x = 10\n",
       "@info \"Some variables attached to the message\" x a=42.0\n",
       "\n",
       "@debug begin\n",
       "    sA = sum(A)\n",
       "    \"sum(A) = $sA is an expensive operation, evaluated only when `shouldlog` returns true\"\n",
       "end\n",
       "\n",
       "for i=1:10000\n",
       "    @info \"With the default backend, you will only see (i = $i) ten times\"  maxlog=10\n",
       "    @debug \"Algorithm1\" i progress=i/10000\n",
       "end\n",
       "```\n"
      ],
      "text/plain": [
       "\u001b[36m  @debug message  [key=value | value ...]\u001b[39m\n",
       "\u001b[36m  @info  message  [key=value | value ...]\u001b[39m\n",
       "\u001b[36m  @warn  message  [key=value | value ...]\u001b[39m\n",
       "\u001b[36m  @error message  [key=value | value ...]\u001b[39m\n",
       "\u001b[36m  \u001b[39m\n",
       "\u001b[36m  @logmsg level message [key=value | value ...]\u001b[39m\n",
       "\n",
       "  Create a log record with an informational \u001b[36mmessage\u001b[39m. For convenience, four\n",
       "  logging macros \u001b[36m@debug\u001b[39m, \u001b[36m@info\u001b[39m, \u001b[36m@warn\u001b[39m and \u001b[36m@error\u001b[39m are defined which log at the\n",
       "  standard severity levels \u001b[36mDebug\u001b[39m, \u001b[36mInfo\u001b[39m, \u001b[36mWarn\u001b[39m and \u001b[36mError\u001b[39m. \u001b[36m@logmsg\u001b[39m allows \u001b[36mlevel\u001b[39m\n",
       "  to be set programmatically to any \u001b[36mLogLevel\u001b[39m or custom log level types.\n",
       "\n",
       "  \u001b[36mmessage\u001b[39m should be an expression which evaluates to a string which is a human\n",
       "  readable description of the log event. By convention, this string will be\n",
       "  formatted as markdown when presented.\n",
       "\n",
       "  The optional list of \u001b[36mkey=value\u001b[39m pairs supports arbitrary user defined\n",
       "  metadata which will be passed through to the logging backend as part of the\n",
       "  log record. If only a \u001b[36mvalue\u001b[39m expression is supplied, a key representing the\n",
       "  expression will be generated using \u001b[36mSymbol\u001b[39m. For example, \u001b[36mx\u001b[39m becomes \u001b[36mx=x\u001b[39m, and\n",
       "  \u001b[36mfoo(10)\u001b[39m becomes \u001b[36mSymbol(\"foo(10)\")=foo(10)\u001b[39m. For splatting a list of key value\n",
       "  pairs, use the normal splatting syntax, \u001b[36m@info \"blah\" kws...\u001b[39m.\n",
       "\n",
       "  There are some keys which allow automatically generated log data to be\n",
       "  overridden:\n",
       "\n",
       "    •    \u001b[36m_module=mod\u001b[39m can be used to specify a different originating module\n",
       "        from the source location of the message.\n",
       "\n",
       "    •    \u001b[36m_group=symbol\u001b[39m can be used to override the message group (this is\n",
       "        normally derived from the base name of the source file).\n",
       "\n",
       "    •    \u001b[36m_id=symbol\u001b[39m can be used to override the automatically generated\n",
       "        unique message identifier. This is useful if you need to very\n",
       "        closely associate messages generated on different source lines.\n",
       "\n",
       "    •    \u001b[36m_file=string\u001b[39m and \u001b[36m_line=integer\u001b[39m can be used to override the\n",
       "        apparent source location of a log message.\n",
       "\n",
       "  There's also some key value pairs which have conventional meaning:\n",
       "\n",
       "    •    \u001b[36mmaxlog=integer\u001b[39m should be used as a hint to the backend that the\n",
       "        message should be displayed no more than \u001b[36mmaxlog\u001b[39m times.\n",
       "\n",
       "    •    \u001b[36mexception=ex\u001b[39m should be used to transport an exception with a log\n",
       "        message, often used with \u001b[36m@error\u001b[39m. An associated backtrace \u001b[36mbt\u001b[39m may be\n",
       "        attached using the tuple \u001b[36mexception=(ex,bt)\u001b[39m.\n",
       "\n",
       "\u001b[1m  Examples\u001b[22m\n",
       "\u001b[1m  ≡≡≡≡≡≡≡≡≡≡\u001b[22m\n",
       "\n",
       "\u001b[36m  @debug \"Verbose debugging information.  Invisible by default\"\u001b[39m\n",
       "\u001b[36m  @info  \"An informational message\"\u001b[39m\n",
       "\u001b[36m  @warn  \"Something was odd.  You should pay attention\"\u001b[39m\n",
       "\u001b[36m  @error \"A non fatal error occurred\"\u001b[39m\n",
       "\u001b[36m  \u001b[39m\n",
       "\u001b[36m  x = 10\u001b[39m\n",
       "\u001b[36m  @info \"Some variables attached to the message\" x a=42.0\u001b[39m\n",
       "\u001b[36m  \u001b[39m\n",
       "\u001b[36m  @debug begin\u001b[39m\n",
       "\u001b[36m      sA = sum(A)\u001b[39m\n",
       "\u001b[36m      \"sum(A) = $sA is an expensive operation, evaluated only when `shouldlog` returns true\"\u001b[39m\n",
       "\u001b[36m  end\u001b[39m\n",
       "\u001b[36m  \u001b[39m\n",
       "\u001b[36m  for i=1:10000\u001b[39m\n",
       "\u001b[36m      @info \"With the default backend, you will only see (i = $i) ten times\"  maxlog=10\u001b[39m\n",
       "\u001b[36m      @debug \"Algorithm1\" i progress=i/10000\u001b[39m\n",
       "\u001b[36m  end\u001b[39m"
      ]
     },
     "execution_count": 31,
     "metadata": {},
     "output_type": "execute_result"
    }
   ],
   "source": [
    "@doc @error"
   ]
  },
  {
   "cell_type": "code",
   "execution_count": 32,
   "metadata": {},
   "outputs": [
    {
     "data": {
      "text/markdown": [
       "```\n",
       "@eval [mod,] ex\n",
       "```\n",
       "\n",
       "Evaluate an expression with values interpolated into it using `eval`. If two arguments are provided, the first is the module to evaluate in.\n"
      ],
      "text/plain": [
       "\u001b[36m  @eval [mod,] ex\u001b[39m\n",
       "\n",
       "  Evaluate an expression with values interpolated into it using \u001b[36meval\u001b[39m. If two\n",
       "  arguments are provided, the first is the module to evaluate in."
      ]
     },
     "execution_count": 32,
     "metadata": {},
     "output_type": "execute_result"
    }
   ],
   "source": [
    "@doc @eval"
   ]
  },
  {
   "cell_type": "code",
   "execution_count": 33,
   "metadata": {},
   "outputs": [
    {
     "data": {
      "text/markdown": [
       "```\n",
       "@evalpoly(z, c...)\n",
       "```\n",
       "\n",
       "Evaluate the polynomial $\\sum_k c[k] z^{k-1}$ for the coefficients `c[1]`, `c[2]`, ...; that is, the coefficients are given in ascending order by power of `z`.  This macro expands to efficient inline code that uses either Horner's method or, for complex `z`, a more efficient Goertzel-like algorithm.\n",
       "\n",
       "# Examples\n",
       "\n",
       "```jldoctest\n",
       "julia> @evalpoly(3, 1, 0, 1)\n",
       "10\n",
       "\n",
       "julia> @evalpoly(2, 1, 0, 1)\n",
       "5\n",
       "\n",
       "julia> @evalpoly(2, 1, 1, 1)\n",
       "7\n",
       "```\n"
      ],
      "text/plain": [
       "\u001b[36m  @evalpoly(z, c...)\u001b[39m\n",
       "\n",
       "  Evaluate the polynomial \u001b[35m\\sum_k c[k] z^{k-1}\u001b[39m for the coefficients \u001b[36mc[1]\u001b[39m, \u001b[36mc[2]\u001b[39m,\n",
       "  ...; that is, the coefficients are given in ascending order by power of \u001b[36mz\u001b[39m.\n",
       "  This macro expands to efficient inline code that uses either Horner's method\n",
       "  or, for complex \u001b[36mz\u001b[39m, a more efficient Goertzel-like algorithm.\n",
       "\n",
       "\u001b[1m  Examples\u001b[22m\n",
       "\u001b[1m  ≡≡≡≡≡≡≡≡≡≡\u001b[22m\n",
       "\n",
       "\u001b[36m  julia> @evalpoly(3, 1, 0, 1)\u001b[39m\n",
       "\u001b[36m  10\u001b[39m\n",
       "\u001b[36m  \u001b[39m\n",
       "\u001b[36m  julia> @evalpoly(2, 1, 0, 1)\u001b[39m\n",
       "\u001b[36m  5\u001b[39m\n",
       "\u001b[36m  \u001b[39m\n",
       "\u001b[36m  julia> @evalpoly(2, 1, 1, 1)\u001b[39m\n",
       "\u001b[36m  7\u001b[39m"
      ]
     },
     "execution_count": 33,
     "metadata": {},
     "output_type": "execute_result"
    }
   ],
   "source": [
    "@doc @evalpoly"
   ]
  },
  {
   "cell_type": "code",
   "execution_count": 34,
   "metadata": {},
   "outputs": [
    {
     "data": {
      "text/markdown": [
       "```\n",
       "@fastmath expr\n",
       "```\n",
       "\n",
       "Execute a transformed version of the expression, which calls functions that may violate strict IEEE semantics. This allows the fastest possible operation, but results are undefined – be careful when doing this, as it may change numerical results.\n",
       "\n",
       "This sets the [LLVM Fast-Math flags](http://llvm.org/docs/LangRef.html#fast-math-flags), and corresponds to the `-ffast-math` option in clang. See [the notes on performance annotations](@ref man-performance-annotations) for more details.\n",
       "\n",
       "# Examples\n",
       "\n",
       "```jldoctest\n",
       "julia> @fastmath 1+2\n",
       "3\n",
       "\n",
       "julia> @fastmath(sin(3))\n",
       "0.1411200080598672\n",
       "```\n"
      ],
      "text/plain": [
       "\u001b[36m  @fastmath expr\u001b[39m\n",
       "\n",
       "  Execute a transformed version of the expression, which calls functions that\n",
       "  may violate strict IEEE semantics. This allows the fastest possible\n",
       "  operation, but results are undefined – be careful when doing this, as it may\n",
       "  change numerical results.\n",
       "\n",
       "  This sets the LLVM Fast-Math flags\n",
       "  (http://llvm.org/docs/LangRef.html#fast-math-flags), and corresponds to the\n",
       "  \u001b[36m-ffast-math\u001b[39m option in clang. See the notes on performance annotations for\n",
       "  more details.\n",
       "\n",
       "\u001b[1m  Examples\u001b[22m\n",
       "\u001b[1m  ≡≡≡≡≡≡≡≡≡≡\u001b[22m\n",
       "\n",
       "\u001b[36m  julia> @fastmath 1+2\u001b[39m\n",
       "\u001b[36m  3\u001b[39m\n",
       "\u001b[36m  \u001b[39m\n",
       "\u001b[36m  julia> @fastmath(sin(3))\u001b[39m\n",
       "\u001b[36m  0.1411200080598672\u001b[39m"
      ]
     },
     "execution_count": 34,
     "metadata": {},
     "output_type": "execute_result"
    }
   ],
   "source": [
    "@doc @fastmath"
   ]
  },
  {
   "cell_type": "code",
   "execution_count": 35,
   "metadata": {},
   "outputs": [
    {
     "data": {
      "text/markdown": [
       "```\n",
       "@functionloc\n",
       "```\n",
       "\n",
       "Applied to a function or macro call, it evaluates the arguments to the specified call, and returns a tuple `(filename,line)` giving the location for the method that would be called for those arguments. It calls out to the `functionloc` function.\n"
      ],
      "text/plain": [
       "\u001b[36m  @functionloc\u001b[39m\n",
       "\n",
       "  Applied to a function or macro call, it evaluates the arguments to the\n",
       "  specified call, and returns a tuple \u001b[36m(filename,line)\u001b[39m giving the location for\n",
       "  the method that would be called for those arguments. It calls out to the\n",
       "  \u001b[36mfunctionloc\u001b[39m function."
      ]
     },
     "execution_count": 35,
     "metadata": {},
     "output_type": "execute_result"
    }
   ],
   "source": [
    "@doc @functionloc"
   ]
  },
  {
   "cell_type": "code",
   "execution_count": 36,
   "metadata": {},
   "outputs": [
    {
     "data": {
      "text/plain": [
       "(\"C:\\\\cygwin\\\\home\\\\Administrator\\\\buildbot\\\\worker\\\\package_win64\\\\build\\\\usr\\\\share\\\\julia\\\\stdlib\\\\v1.0\\\\Random\\\\src\\\\Random.jl\", 222)"
      ]
     },
     "execution_count": 36,
     "metadata": {},
     "output_type": "execute_result"
    }
   ],
   "source": [
    "@functionloc rand()"
   ]
  },
  {
   "cell_type": "code",
   "execution_count": 37,
   "metadata": {},
   "outputs": [
    {
     "data": {
      "text/markdown": [
       "```\n",
       "@generated f\n",
       "@generated(f)\n",
       "```\n",
       "\n",
       "`@generated` is used to annotate a function which will be generated. In the body of the generated function, only types of arguments can be read (not the values). The function returns a quoted expression evaluated when the function is called. The `@generated` macro should not be used on functions mutating the global scope or depending on mutable elements.\n",
       "\n",
       "See [Metaprogramming](@ref) for further details.\n",
       "\n",
       "## Example:\n",
       "\n",
       "```julia\n",
       "julia> @generated function bar(x)\n",
       "           if x <: Integer\n",
       "               return :(x ^ 2)\n",
       "           else\n",
       "               return :(x)\n",
       "           end\n",
       "       end\n",
       "bar (generic function with 1 method)\n",
       "\n",
       "julia> bar(4)\n",
       "16\n",
       "\n",
       "julia> bar(\"baz\")\n",
       "\"baz\"\n",
       "```\n"
      ],
      "text/plain": [
       "\u001b[36m  @generated f\u001b[39m\n",
       "\u001b[36m  @generated(f)\u001b[39m\n",
       "\n",
       "  \u001b[36m@generated\u001b[39m is used to annotate a function which will be generated. In the\n",
       "  body of the generated function, only types of arguments can be read (not the\n",
       "  values). The function returns a quoted expression evaluated when the\n",
       "  function is called. The \u001b[36m@generated\u001b[39m macro should not be used on functions\n",
       "  mutating the global scope or depending on mutable elements.\n",
       "\n",
       "  See Metaprogramming for further details.\n",
       "\n",
       "\u001b[1m  Example:\u001b[22m\n",
       "\u001b[1m  ==========\u001b[22m\n",
       "\n",
       "\u001b[36m  julia> @generated function bar(x)\u001b[39m\n",
       "\u001b[36m             if x <: Integer\u001b[39m\n",
       "\u001b[36m                 return :(x ^ 2)\u001b[39m\n",
       "\u001b[36m             else\u001b[39m\n",
       "\u001b[36m                 return :(x)\u001b[39m\n",
       "\u001b[36m             end\u001b[39m\n",
       "\u001b[36m         end\u001b[39m\n",
       "\u001b[36m  bar (generic function with 1 method)\u001b[39m\n",
       "\u001b[36m  \u001b[39m\n",
       "\u001b[36m  julia> bar(4)\u001b[39m\n",
       "\u001b[36m  16\u001b[39m\n",
       "\u001b[36m  \u001b[39m\n",
       "\u001b[36m  julia> bar(\"baz\")\u001b[39m\n",
       "\u001b[36m  \"baz\"\u001b[39m"
      ]
     },
     "execution_count": 37,
     "metadata": {},
     "output_type": "execute_result"
    }
   ],
   "source": [
    "@doc @generated"
   ]
  },
  {
   "cell_type": "code",
   "execution_count": 38,
   "metadata": {},
   "outputs": [
    {
     "data": {
      "text/markdown": [
       "```\n",
       "@gensym\n",
       "```\n",
       "\n",
       "Generates a gensym symbol for a variable. For example, `@gensym x y` is transformed into `x = gensym(\"x\"); y = gensym(\"y\")`.\n"
      ],
      "text/plain": [
       "\u001b[36m  @gensym\u001b[39m\n",
       "\n",
       "  Generates a gensym symbol for a variable. For example, \u001b[36m@gensym x y\u001b[39m is\n",
       "  transformed into \u001b[36mx = gensym(\"x\"); y = gensym(\"y\")\u001b[39m."
      ]
     },
     "execution_count": 38,
     "metadata": {},
     "output_type": "execute_result"
    }
   ],
   "source": [
    "@doc @gensym"
   ]
  },
  {
   "cell_type": "code",
   "execution_count": 39,
   "metadata": {},
   "outputs": [
    {
     "data": {
      "text/plain": [
       "Symbol(\"##x#358\")"
      ]
     },
     "execution_count": 39,
     "metadata": {},
     "output_type": "execute_result"
    }
   ],
   "source": [
    "@gensym x y\n",
    "x"
   ]
  },
  {
   "cell_type": "code",
   "execution_count": 40,
   "metadata": {},
   "outputs": [
    {
     "data": {
      "text/markdown": [
       "```\n",
       "@goto name\n",
       "```\n",
       "\n",
       "`@goto name` unconditionally jumps to the statement at the location [`@label name`](@ref).\n",
       "\n",
       "`@label` and `@goto` cannot create jumps to different top-level statements. Attempts cause an error. To still use `@goto`, enclose the `@label` and `@goto` in a block.\n"
      ],
      "text/plain": [
       "\u001b[36m  @goto name\u001b[39m\n",
       "\n",
       "  \u001b[36m@goto name\u001b[39m unconditionally jumps to the statement at the location \u001b[36m@label\n",
       "  name\u001b[39m.\n",
       "\n",
       "  \u001b[36m@label\u001b[39m and \u001b[36m@goto\u001b[39m cannot create jumps to different top-level statements.\n",
       "  Attempts cause an error. To still use \u001b[36m@goto\u001b[39m, enclose the \u001b[36m@label\u001b[39m and \u001b[36m@goto\u001b[39m in\n",
       "  a block."
      ]
     },
     "execution_count": 40,
     "metadata": {},
     "output_type": "execute_result"
    }
   ],
   "source": [
    "@doc @goto"
   ]
  },
  {
   "cell_type": "code",
   "execution_count": 41,
   "metadata": {},
   "outputs": [
    {
     "data": {
      "text/markdown": [
       "```\n",
       "@html_str -> Docs.HTML\n",
       "```\n",
       "\n",
       "Create an `HTML` object from a literal string.\n"
      ],
      "text/plain": [
       "\u001b[36m  @html_str -> Docs.HTML\u001b[39m\n",
       "\n",
       "  Create an \u001b[36mHTML\u001b[39m object from a literal string."
      ]
     },
     "execution_count": 41,
     "metadata": {},
     "output_type": "execute_result"
    }
   ],
   "source": [
    "@doc @html_str"
   ]
  },
  {
   "cell_type": "code",
   "execution_count": 42,
   "metadata": {},
   "outputs": [
    {
     "data": {
      "text/markdown": [
       "```\n",
       "@inbounds(blk)\n",
       "```\n",
       "\n",
       "Eliminates array bounds checking within expressions.\n",
       "\n",
       "In the example below the in-range check for referencing element `i` of array `A` is skipped to improve performance.\n",
       "\n",
       "```julia\n",
       "function sum(A::AbstractArray)\n",
       "    r = zero(eltype(A))\n",
       "    for i = 1:length(A)\n",
       "        @inbounds r += A[i]\n",
       "    end\n",
       "    return r\n",
       "end\n",
       "```\n",
       "\n",
       "!!! warning\n",
       "    Using `@inbounds` may return incorrect results/crashes/corruption for out-of-bounds indices. The user is responsible for checking it manually. Only use `@inbounds` when it is certain from the information locally available that all accesses are in bounds.\n",
       "\n"
      ],
      "text/plain": [
       "\u001b[36m  @inbounds(blk)\u001b[39m\n",
       "\n",
       "  Eliminates array bounds checking within expressions.\n",
       "\n",
       "  In the example below the in-range check for referencing element \u001b[36mi\u001b[39m of array \u001b[36mA\u001b[39m\n",
       "  is skipped to improve performance.\n",
       "\n",
       "\u001b[36m  function sum(A::AbstractArray)\u001b[39m\n",
       "\u001b[36m      r = zero(eltype(A))\u001b[39m\n",
       "\u001b[36m      for i = 1:length(A)\u001b[39m\n",
       "\u001b[36m          @inbounds r += A[i]\u001b[39m\n",
       "\u001b[36m      end\u001b[39m\n",
       "\u001b[36m      return r\u001b[39m\n",
       "\u001b[36m  end\u001b[39m\n",
       "\n",
       "\u001b[33m\u001b[1m  │ \u001b[22m\u001b[39m\u001b[33m\u001b[1mWarning\u001b[22m\u001b[39m\n",
       "\u001b[33m\u001b[1m  │\u001b[22m\u001b[39m\n",
       "\u001b[33m\u001b[1m  │\u001b[22m\u001b[39m  Using \u001b[36m@inbounds\u001b[39m may return incorrect results/crashes/corruption\n",
       "\u001b[33m\u001b[1m  │\u001b[22m\u001b[39m  for out-of-bounds indices. The user is responsible for checking it\n",
       "\u001b[33m\u001b[1m  │\u001b[22m\u001b[39m  manually. Only use \u001b[36m@inbounds\u001b[39m when it is certain from the\n",
       "\u001b[33m\u001b[1m  │\u001b[22m\u001b[39m  information locally available that all accesses are in bounds."
      ]
     },
     "execution_count": 42,
     "metadata": {},
     "output_type": "execute_result"
    }
   ],
   "source": [
    "@doc @inbounds"
   ]
  },
  {
   "cell_type": "code",
   "execution_count": 43,
   "metadata": {},
   "outputs": [
    {
     "data": {
      "text/markdown": [
       "```\n",
       "@debug message  [key=value | value ...]\n",
       "@info  message  [key=value | value ...]\n",
       "@warn  message  [key=value | value ...]\n",
       "@error message  [key=value | value ...]\n",
       "\n",
       "@logmsg level message [key=value | value ...]\n",
       "```\n",
       "\n",
       "Create a log record with an informational `message`.  For convenience, four logging macros `@debug`, `@info`, `@warn` and `@error` are defined which log at the standard severity levels `Debug`, `Info`, `Warn` and `Error`.  `@logmsg` allows `level` to be set programmatically to any `LogLevel` or custom log level types.\n",
       "\n",
       "`message` should be an expression which evaluates to a string which is a human readable description of the log event.  By convention, this string will be formatted as markdown when presented.\n",
       "\n",
       "The optional list of `key=value` pairs supports arbitrary user defined metadata which will be passed through to the logging backend as part of the log record.  If only a `value` expression is supplied, a key representing the expression will be generated using `Symbol`. For example, `x` becomes `x=x`, and `foo(10)` becomes `Symbol(\"foo(10)\")=foo(10)`.  For splatting a list of key value pairs, use the normal splatting syntax, `@info \"blah\" kws...`.\n",
       "\n",
       "There are some keys which allow automatically generated log data to be overridden:\n",
       "\n",
       "  * `_module=mod` can be used to specify a different originating module from the source location of the message.\n",
       "  * `_group=symbol` can be used to override the message group (this is normally derived from the base name of the source file).\n",
       "  * `_id=symbol` can be used to override the automatically generated unique message identifier.  This is useful if you need to very closely associate messages generated on different source lines.\n",
       "  * `_file=string` and `_line=integer` can be used to override the apparent source location of a log message.\n",
       "\n",
       "There's also some key value pairs which have conventional meaning:\n",
       "\n",
       "  * `maxlog=integer` should be used as a hint to the backend that the message should be displayed no more than `maxlog` times.\n",
       "  * `exception=ex` should be used to transport an exception with a log message, often used with `@error`. An associated backtrace `bt` may be attached using the tuple `exception=(ex,bt)`.\n",
       "\n",
       "# Examples\n",
       "\n",
       "```\n",
       "@debug \"Verbose debugging information.  Invisible by default\"\n",
       "@info  \"An informational message\"\n",
       "@warn  \"Something was odd.  You should pay attention\"\n",
       "@error \"A non fatal error occurred\"\n",
       "\n",
       "x = 10\n",
       "@info \"Some variables attached to the message\" x a=42.0\n",
       "\n",
       "@debug begin\n",
       "    sA = sum(A)\n",
       "    \"sum(A) = $sA is an expensive operation, evaluated only when `shouldlog` returns true\"\n",
       "end\n",
       "\n",
       "for i=1:10000\n",
       "    @info \"With the default backend, you will only see (i = $i) ten times\"  maxlog=10\n",
       "    @debug \"Algorithm1\" i progress=i/10000\n",
       "end\n",
       "```\n"
      ],
      "text/plain": [
       "\u001b[36m  @debug message  [key=value | value ...]\u001b[39m\n",
       "\u001b[36m  @info  message  [key=value | value ...]\u001b[39m\n",
       "\u001b[36m  @warn  message  [key=value | value ...]\u001b[39m\n",
       "\u001b[36m  @error message  [key=value | value ...]\u001b[39m\n",
       "\u001b[36m  \u001b[39m\n",
       "\u001b[36m  @logmsg level message [key=value | value ...]\u001b[39m\n",
       "\n",
       "  Create a log record with an informational \u001b[36mmessage\u001b[39m. For convenience, four\n",
       "  logging macros \u001b[36m@debug\u001b[39m, \u001b[36m@info\u001b[39m, \u001b[36m@warn\u001b[39m and \u001b[36m@error\u001b[39m are defined which log at the\n",
       "  standard severity levels \u001b[36mDebug\u001b[39m, \u001b[36mInfo\u001b[39m, \u001b[36mWarn\u001b[39m and \u001b[36mError\u001b[39m. \u001b[36m@logmsg\u001b[39m allows \u001b[36mlevel\u001b[39m\n",
       "  to be set programmatically to any \u001b[36mLogLevel\u001b[39m or custom log level types.\n",
       "\n",
       "  \u001b[36mmessage\u001b[39m should be an expression which evaluates to a string which is a human\n",
       "  readable description of the log event. By convention, this string will be\n",
       "  formatted as markdown when presented.\n",
       "\n",
       "  The optional list of \u001b[36mkey=value\u001b[39m pairs supports arbitrary user defined\n",
       "  metadata which will be passed through to the logging backend as part of the\n",
       "  log record. If only a \u001b[36mvalue\u001b[39m expression is supplied, a key representing the\n",
       "  expression will be generated using \u001b[36mSymbol\u001b[39m. For example, \u001b[36mx\u001b[39m becomes \u001b[36mx=x\u001b[39m, and\n",
       "  \u001b[36mfoo(10)\u001b[39m becomes \u001b[36mSymbol(\"foo(10)\")=foo(10)\u001b[39m. For splatting a list of key value\n",
       "  pairs, use the normal splatting syntax, \u001b[36m@info \"blah\" kws...\u001b[39m.\n",
       "\n",
       "  There are some keys which allow automatically generated log data to be\n",
       "  overridden:\n",
       "\n",
       "    •    \u001b[36m_module=mod\u001b[39m can be used to specify a different originating module\n",
       "        from the source location of the message.\n",
       "\n",
       "    •    \u001b[36m_group=symbol\u001b[39m can be used to override the message group (this is\n",
       "        normally derived from the base name of the source file).\n",
       "\n",
       "    •    \u001b[36m_id=symbol\u001b[39m can be used to override the automatically generated\n",
       "        unique message identifier. This is useful if you need to very\n",
       "        closely associate messages generated on different source lines.\n",
       "\n",
       "    •    \u001b[36m_file=string\u001b[39m and \u001b[36m_line=integer\u001b[39m can be used to override the\n",
       "        apparent source location of a log message.\n",
       "\n",
       "  There's also some key value pairs which have conventional meaning:\n",
       "\n",
       "    •    \u001b[36mmaxlog=integer\u001b[39m should be used as a hint to the backend that the\n",
       "        message should be displayed no more than \u001b[36mmaxlog\u001b[39m times.\n",
       "\n",
       "    •    \u001b[36mexception=ex\u001b[39m should be used to transport an exception with a log\n",
       "        message, often used with \u001b[36m@error\u001b[39m. An associated backtrace \u001b[36mbt\u001b[39m may be\n",
       "        attached using the tuple \u001b[36mexception=(ex,bt)\u001b[39m.\n",
       "\n",
       "\u001b[1m  Examples\u001b[22m\n",
       "\u001b[1m  ≡≡≡≡≡≡≡≡≡≡\u001b[22m\n",
       "\n",
       "\u001b[36m  @debug \"Verbose debugging information.  Invisible by default\"\u001b[39m\n",
       "\u001b[36m  @info  \"An informational message\"\u001b[39m\n",
       "\u001b[36m  @warn  \"Something was odd.  You should pay attention\"\u001b[39m\n",
       "\u001b[36m  @error \"A non fatal error occurred\"\u001b[39m\n",
       "\u001b[36m  \u001b[39m\n",
       "\u001b[36m  x = 10\u001b[39m\n",
       "\u001b[36m  @info \"Some variables attached to the message\" x a=42.0\u001b[39m\n",
       "\u001b[36m  \u001b[39m\n",
       "\u001b[36m  @debug begin\u001b[39m\n",
       "\u001b[36m      sA = sum(A)\u001b[39m\n",
       "\u001b[36m      \"sum(A) = $sA is an expensive operation, evaluated only when `shouldlog` returns true\"\u001b[39m\n",
       "\u001b[36m  end\u001b[39m\n",
       "\u001b[36m  \u001b[39m\n",
       "\u001b[36m  for i=1:10000\u001b[39m\n",
       "\u001b[36m      @info \"With the default backend, you will only see (i = $i) ten times\"  maxlog=10\u001b[39m\n",
       "\u001b[36m      @debug \"Algorithm1\" i progress=i/10000\u001b[39m\n",
       "\u001b[36m  end\u001b[39m"
      ]
     },
     "execution_count": 43,
     "metadata": {},
     "output_type": "execute_result"
    }
   ],
   "source": [
    "@doc @info"
   ]
  },
  {
   "cell_type": "code",
   "execution_count": 44,
   "metadata": {},
   "outputs": [
    {
     "data": {
      "text/markdown": [
       "```\n",
       "@inline\n",
       "```\n",
       "\n",
       "Give a hint to the compiler that this function is worth inlining.\n",
       "\n",
       "Small functions typically do not need the `@inline` annotation, as the compiler does it automatically. By using `@inline` on bigger functions, an extra nudge can be given to the compiler to inline it. This is shown in the following example:\n",
       "\n",
       "```julia\n",
       "@inline function bigfunction(x)\n",
       "    #=\n",
       "        Function Definition\n",
       "    =#\n",
       "end\n",
       "```\n"
      ],
      "text/plain": [
       "\u001b[36m  @inline\u001b[39m\n",
       "\n",
       "  Give a hint to the compiler that this function is worth inlining.\n",
       "\n",
       "  Small functions typically do not need the \u001b[36m@inline\u001b[39m annotation, as the\n",
       "  compiler does it automatically. By using \u001b[36m@inline\u001b[39m on bigger functions, an\n",
       "  extra nudge can be given to the compiler to inline it. This is shown in the\n",
       "  following example:\n",
       "\n",
       "\u001b[36m  @inline function bigfunction(x)\u001b[39m\n",
       "\u001b[36m      #=\u001b[39m\n",
       "\u001b[36m          Function Definition\u001b[39m\n",
       "\u001b[36m      =#\u001b[39m\n",
       "\u001b[36m  end\u001b[39m"
      ]
     },
     "execution_count": 44,
     "metadata": {},
     "output_type": "execute_result"
    }
   ],
   "source": [
    "@doc @inline"
   ]
  },
  {
   "cell_type": "code",
   "execution_count": 45,
   "metadata": {},
   "outputs": [
    {
     "data": {
      "text/markdown": [
       "```\n",
       "@int128_str str\n",
       "@int128_str(str)\n",
       "```\n",
       "\n",
       "`@int128_str` parses a string into a Int128 Throws an `ArgumentError` if the string is not a valid integer\n"
      ],
      "text/plain": [
       "\u001b[36m  @int128_str str\u001b[39m\n",
       "\u001b[36m  @int128_str(str)\u001b[39m\n",
       "\n",
       "  \u001b[36m@int128_str\u001b[39m parses a string into a Int128 Throws an \u001b[36mArgumentError\u001b[39m if the\n",
       "  string is not a valid integer"
      ]
     },
     "execution_count": 45,
     "metadata": {},
     "output_type": "execute_result"
    }
   ],
   "source": [
    "@doc @int128_str"
   ]
  },
  {
   "cell_type": "code",
   "execution_count": 46,
   "metadata": {},
   "outputs": [
    {
     "data": {
      "text/markdown": [
       "```\n",
       "@isdefined s -> Bool\n",
       "```\n",
       "\n",
       "Tests whether variable `s` is defined in the current scope.\n",
       "\n",
       "# Examples\n",
       "\n",
       "```jldoctest\n",
       "julia> function f()\n",
       "           println(@isdefined x)\n",
       "           x = 3\n",
       "           println(@isdefined x)\n",
       "       end\n",
       "f (generic function with 1 method)\n",
       "\n",
       "julia> f()\n",
       "false\n",
       "true\n",
       "```\n"
      ],
      "text/plain": [
       "\u001b[36m  @isdefined s -> Bool\u001b[39m\n",
       "\n",
       "  Tests whether variable \u001b[36ms\u001b[39m is defined in the current scope.\n",
       "\n",
       "\u001b[1m  Examples\u001b[22m\n",
       "\u001b[1m  ≡≡≡≡≡≡≡≡≡≡\u001b[22m\n",
       "\n",
       "\u001b[36m  julia> function f()\u001b[39m\n",
       "\u001b[36m             println(@isdefined x)\u001b[39m\n",
       "\u001b[36m             x = 3\u001b[39m\n",
       "\u001b[36m             println(@isdefined x)\u001b[39m\n",
       "\u001b[36m         end\u001b[39m\n",
       "\u001b[36m  f (generic function with 1 method)\u001b[39m\n",
       "\u001b[36m  \u001b[39m\n",
       "\u001b[36m  julia> f()\u001b[39m\n",
       "\u001b[36m  false\u001b[39m\n",
       "\u001b[36m  true\u001b[39m"
      ]
     },
     "execution_count": 46,
     "metadata": {},
     "output_type": "execute_result"
    }
   ],
   "source": [
    "@doc @isdefined"
   ]
  },
  {
   "cell_type": "code",
   "execution_count": 47,
   "metadata": {},
   "outputs": [
    {
     "data": {
      "text/markdown": [
       "```\n",
       "@label name\n",
       "```\n",
       "\n",
       "Labels a statement with the symbolic label `name`. The label marks the end-point of an unconditional jump with [`@goto name`](@ref).\n"
      ],
      "text/plain": [
       "\u001b[36m  @label name\u001b[39m\n",
       "\n",
       "  Labels a statement with the symbolic label \u001b[36mname\u001b[39m. The label marks the\n",
       "  end-point of an unconditional jump with \u001b[36m@goto name\u001b[39m."
      ]
     },
     "execution_count": 47,
     "metadata": {},
     "output_type": "execute_result"
    }
   ],
   "source": [
    "@doc @label"
   ]
  },
  {
   "cell_type": "code",
   "execution_count": 48,
   "metadata": {},
   "outputs": [
    {
     "data": {
      "text/markdown": [
       "```\n",
       "@less\n",
       "```\n",
       "\n",
       "Evaluates the arguments to the function or macro call, determines their types, and calls the `less` function on the resulting expression.\n"
      ],
      "text/plain": [
       "\u001b[36m  @less\u001b[39m\n",
       "\n",
       "  Evaluates the arguments to the function or macro call, determines their\n",
       "  types, and calls the \u001b[36mless\u001b[39m function on the resulting expression."
      ]
     },
     "execution_count": 48,
     "metadata": {},
     "output_type": "execute_result"
    }
   ],
   "source": [
    "@doc @less"
   ]
  },
  {
   "cell_type": "code",
   "execution_count": 49,
   "metadata": {
    "scrolled": true
   },
   "outputs": [
    {
     "name": "stdout",
     "output_type": "stream",
     "text": [
      "    return abspath(dirname(String(__source__.file)))\r\n",
      "end\r\n"
     ]
    }
   ],
   "source": [
    "@less @__DIR__"
   ]
  },
  {
   "cell_type": "code",
   "execution_count": 50,
   "metadata": {},
   "outputs": [
    {
     "data": {
      "text/markdown": [
       "```\n",
       "@macroexpand\n",
       "```\n",
       "\n",
       "Return equivalent expression with all macros removed (expanded).\n",
       "\n",
       "There are differences between `@macroexpand` and [`macroexpand`](@ref).\n",
       "\n",
       "  * While [`macroexpand`](@ref) takes a keyword argument `recursive`, `@macroexpand`\n",
       "\n",
       "is always recursive. For a non recursive macro version, see [`@macroexpand1`](@ref).\n",
       "\n",
       "  * While [`macroexpand`](@ref) has an explicit `module` argument, `@macroexpand` always\n",
       "\n",
       "expands with respect to the module in which it is called. This is best seen in the following example:\n",
       "\n",
       "```julia-repl\n",
       "julia> module M\n",
       "           macro m()\n",
       "               1\n",
       "           end\n",
       "           function f()\n",
       "               (@macroexpand(@m),\n",
       "                macroexpand(M, :(@m)),\n",
       "                macroexpand(Main, :(@m))\n",
       "               )\n",
       "           end\n",
       "       end\n",
       "M\n",
       "\n",
       "julia> macro m()\n",
       "           2\n",
       "       end\n",
       "@m (macro with 1 method)\n",
       "\n",
       "julia> M.f()\n",
       "(1, 1, 2)\n",
       "```\n",
       "\n",
       "With `@macroexpand` the expression expands where `@macroexpand` appears in the code (module `M` in the example). With `macroexpand` the expression expands in the module given as the first argument.\n"
      ],
      "text/plain": [
       "\u001b[36m  @macroexpand\u001b[39m\n",
       "\n",
       "  Return equivalent expression with all macros removed (expanded).\n",
       "\n",
       "  There are differences between \u001b[36m@macroexpand\u001b[39m and \u001b[36mmacroexpand\u001b[39m.\n",
       "\n",
       "    •    While \u001b[36mmacroexpand\u001b[39m takes a keyword argument \u001b[36mrecursive\u001b[39m, \u001b[36m@macroexpand\u001b[39m\n",
       "\n",
       "  is always recursive. For a non recursive macro version, see \u001b[36m@macroexpand1\u001b[39m.\n",
       "\n",
       "    •    While \u001b[36mmacroexpand\u001b[39m has an explicit \u001b[36mmodule\u001b[39m argument, \u001b[36m@macroexpand\u001b[39m\n",
       "        always\n",
       "\n",
       "  expands with respect to the module in which it is called. This is best seen\n",
       "  in the following example:\n",
       "\n",
       "\u001b[36m  julia> module M\u001b[39m\n",
       "\u001b[36m             macro m()\u001b[39m\n",
       "\u001b[36m                 1\u001b[39m\n",
       "\u001b[36m             end\u001b[39m\n",
       "\u001b[36m             function f()\u001b[39m\n",
       "\u001b[36m                 (@macroexpand(@m),\u001b[39m\n",
       "\u001b[36m                  macroexpand(M, :(@m)),\u001b[39m\n",
       "\u001b[36m                  macroexpand(Main, :(@m))\u001b[39m\n",
       "\u001b[36m                 )\u001b[39m\n",
       "\u001b[36m             end\u001b[39m\n",
       "\u001b[36m         end\u001b[39m\n",
       "\u001b[36m  M\u001b[39m\n",
       "\u001b[36m  \u001b[39m\n",
       "\u001b[36m  julia> macro m()\u001b[39m\n",
       "\u001b[36m             2\u001b[39m\n",
       "\u001b[36m         end\u001b[39m\n",
       "\u001b[36m  @m (macro with 1 method)\u001b[39m\n",
       "\u001b[36m  \u001b[39m\n",
       "\u001b[36m  julia> M.f()\u001b[39m\n",
       "\u001b[36m  (1, 1, 2)\u001b[39m\n",
       "\n",
       "  With \u001b[36m@macroexpand\u001b[39m the expression expands where \u001b[36m@macroexpand\u001b[39m appears in the\n",
       "  code (module \u001b[36mM\u001b[39m in the example). With \u001b[36mmacroexpand\u001b[39m the expression expands in\n",
       "  the module given as the first argument."
      ]
     },
     "execution_count": 50,
     "metadata": {},
     "output_type": "execute_result"
    }
   ],
   "source": [
    "@doc @macroexpand"
   ]
  },
  {
   "cell_type": "code",
   "execution_count": 51,
   "metadata": {},
   "outputs": [
    {
     "data": {
      "text/markdown": [
       "```\n",
       "@macroexpand1\n",
       "```\n",
       "\n",
       "Non recursive version of [`@macroexpand`](@ref).\n"
      ],
      "text/plain": [
       "\u001b[36m  @macroexpand1\u001b[39m\n",
       "\n",
       "  Non recursive version of \u001b[36m@macroexpand\u001b[39m."
      ]
     },
     "execution_count": 51,
     "metadata": {},
     "output_type": "execute_result"
    }
   ],
   "source": [
    "@doc @macroexpand1"
   ]
  },
  {
   "cell_type": "code",
   "execution_count": 52,
   "metadata": {},
   "outputs": [
    {
     "data": {
      "text/markdown": [
       "```\n",
       "@noinline\n",
       "```\n",
       "\n",
       "Prevents the compiler from inlining a function.\n",
       "\n",
       "Small functions are typically inlined automatically. By using `@noinline` on small functions, auto-inlining can be prevented. This is shown in the following example:\n",
       "\n",
       "```julia\n",
       "@noinline function smallfunction(x)\n",
       "    #=\n",
       "        Function Definition\n",
       "    =#\n",
       "end\n",
       "```\n"
      ],
      "text/plain": [
       "\u001b[36m  @noinline\u001b[39m\n",
       "\n",
       "  Prevents the compiler from inlining a function.\n",
       "\n",
       "  Small functions are typically inlined automatically. By using \u001b[36m@noinline\u001b[39m on\n",
       "  small functions, auto-inlining can be prevented. This is shown in the\n",
       "  following example:\n",
       "\n",
       "\u001b[36m  @noinline function smallfunction(x)\u001b[39m\n",
       "\u001b[36m      #=\u001b[39m\n",
       "\u001b[36m          Function Definition\u001b[39m\n",
       "\u001b[36m      =#\u001b[39m\n",
       "\u001b[36m  end\u001b[39m"
      ]
     },
     "execution_count": 52,
     "metadata": {},
     "output_type": "execute_result"
    }
   ],
   "source": [
    "@doc @noinline"
   ]
  },
  {
   "cell_type": "code",
   "execution_count": 53,
   "metadata": {},
   "outputs": [
    {
     "data": {
      "text/markdown": [
       "```\n",
       "@nospecialize\n",
       "```\n",
       "\n",
       "Applied to a function argument name, hints to the compiler that the method should not be specialized for different types of that argument, but instead to use precisely the declared type for each argument. This is only a hint for avoiding excess code generation. Can be applied to an argument within a formal argument list, or in the function body. When applied to an argument, the macro must wrap the entire argument expression. When used in a function body, the macro must occur in statement position and before any code.\n",
       "\n",
       "When used without arguments, it applies to all arguments of the parent scope. In local scope, this means all arguments of the containing function. In global (top-level) scope, this means all methods subsequently defined in the current module.\n",
       "\n",
       "Specialization can reset back to the default by using [`@specialize`](@ref).\n",
       "\n",
       "```julia\n",
       "function example_function(@nospecialize x)\n",
       "    ...\n",
       "end\n",
       "\n",
       "function example_function(@nospecialize(x = 1), y)\n",
       "    ...\n",
       "end\n",
       "\n",
       "function example_function(x, y, z)\n",
       "    @nospecialize x y\n",
       "    ...\n",
       "end\n",
       "\n",
       "@nospecialize\n",
       "f(y) = [x for x in y]\n",
       "@specialize\n",
       "```\n"
      ],
      "text/plain": [
       "\u001b[36m  @nospecialize\u001b[39m\n",
       "\n",
       "  Applied to a function argument name, hints to the compiler that the method\n",
       "  should not be specialized for different types of that argument, but instead\n",
       "  to use precisely the declared type for each argument. This is only a hint\n",
       "  for avoiding excess code generation. Can be applied to an argument within a\n",
       "  formal argument list, or in the function body. When applied to an argument,\n",
       "  the macro must wrap the entire argument expression. When used in a function\n",
       "  body, the macro must occur in statement position and before any code.\n",
       "\n",
       "  When used without arguments, it applies to all arguments of the parent\n",
       "  scope. In local scope, this means all arguments of the containing function.\n",
       "  In global (top-level) scope, this means all methods subsequently defined in\n",
       "  the current module.\n",
       "\n",
       "  Specialization can reset back to the default by using \u001b[36m@specialize\u001b[39m.\n",
       "\n",
       "\u001b[36m  function example_function(@nospecialize x)\u001b[39m\n",
       "\u001b[36m      ...\u001b[39m\n",
       "\u001b[36m  end\u001b[39m\n",
       "\u001b[36m  \u001b[39m\n",
       "\u001b[36m  function example_function(@nospecialize(x = 1), y)\u001b[39m\n",
       "\u001b[36m      ...\u001b[39m\n",
       "\u001b[36m  end\u001b[39m\n",
       "\u001b[36m  \u001b[39m\n",
       "\u001b[36m  function example_function(x, y, z)\u001b[39m\n",
       "\u001b[36m      @nospecialize x y\u001b[39m\n",
       "\u001b[36m      ...\u001b[39m\n",
       "\u001b[36m  end\u001b[39m\n",
       "\u001b[36m  \u001b[39m\n",
       "\u001b[36m  @nospecialize\u001b[39m\n",
       "\u001b[36m  f(y) = [x for x in y]\u001b[39m\n",
       "\u001b[36m  @specialize\u001b[39m"
      ]
     },
     "execution_count": 53,
     "metadata": {},
     "output_type": "execute_result"
    }
   ],
   "source": [
    "@doc @nospecialize"
   ]
  },
  {
   "cell_type": "code",
   "execution_count": 54,
   "metadata": {},
   "outputs": [
    {
     "data": {
      "text/markdown": [
       "```\n",
       "@polly\n",
       "```\n",
       "\n",
       "Tells the compiler to apply the polyhedral optimizer Polly to a function.\n"
      ],
      "text/plain": [
       "\u001b[36m  @polly\u001b[39m\n",
       "\n",
       "  Tells the compiler to apply the polyhedral optimizer Polly to a function."
      ]
     },
     "execution_count": 54,
     "metadata": {},
     "output_type": "execute_result"
    }
   ],
   "source": [
    "@doc @polly"
   ]
  },
  {
   "cell_type": "code",
   "execution_count": 55,
   "metadata": {},
   "outputs": [
    {
     "data": {
      "text/markdown": [
       "```\n",
       "@r_str -> Regex\n",
       "```\n",
       "\n",
       "Construct a regex, such as `r\"^[a-z]*$\"`, without interpolation and unescaping (except for quotation mark `\"` which still has to be escaped). The regex also accepts one or more flags, listed after the ending quote, to change its behaviour:\n",
       "\n",
       "  * `i` enables case-insensitive matching\n",
       "  * `m` treats the `^` and `$` tokens as matching the start and end of individual lines, as opposed to the whole string.\n",
       "  * `s` allows the `.` modifier to match newlines.\n",
       "  * `x` enables \"comment mode\": whitespace is enabled except when escaped with `\\`, and `#` is treated as starting a comment.\n",
       "  * `a` disables `UCP` mode (enables ASCII mode). By default `\\B`, `\\b`, `\\D`, `\\d`, `\\S`, `\\s`, `\\W`, `\\w`, etc. match based on Unicode character properties. With this option, these sequences only match ASCII characters.\n",
       "\n",
       "# Examples\n",
       "\n",
       "```jldoctest\n",
       "julia> match(r\"a+.*b+.*?d$\"ism, \"Goodbye,\\nOh, angry,\\nBad world\\n\")\n",
       "RegexMatch(\"angry,\\nBad world\")\n",
       "```\n",
       "\n",
       "This regex has the first three flags enabled.\n"
      ],
      "text/plain": [
       "\u001b[36m  @r_str -> Regex\u001b[39m\n",
       "\n",
       "  Construct a regex, such as \u001b[36mr\"^[a-z]*$\"\u001b[39m, without interpolation and unescaping\n",
       "  (except for quotation mark \u001b[36m\"\u001b[39m which still has to be escaped). The regex also\n",
       "  accepts one or more flags, listed after the ending quote, to change its\n",
       "  behaviour:\n",
       "\n",
       "    •    \u001b[36mi\u001b[39m enables case-insensitive matching\n",
       "\n",
       "    •    \u001b[36mm\u001b[39m treats the \u001b[36m^\u001b[39m and \u001b[36m$\u001b[39m tokens as matching the start and end of\n",
       "        individual lines, as opposed to the whole string.\n",
       "\n",
       "    •    \u001b[36ms\u001b[39m allows the \u001b[36m.\u001b[39m modifier to match newlines.\n",
       "\n",
       "    •    \u001b[36mx\u001b[39m enables \"comment mode\": whitespace is enabled except when\n",
       "        escaped with \u001b[36m\\\u001b[39m, and \u001b[36m#\u001b[39m is treated as starting a comment.\n",
       "\n",
       "    •    \u001b[36ma\u001b[39m disables \u001b[36mUCP\u001b[39m mode (enables ASCII mode). By default \u001b[36m\\B\u001b[39m, \u001b[36m\\b\u001b[39m, \u001b[36m\\D\u001b[39m,\n",
       "        \u001b[36m\\d\u001b[39m, \u001b[36m\\S\u001b[39m, \u001b[36m\\s\u001b[39m, \u001b[36m\\W\u001b[39m, \u001b[36m\\w\u001b[39m, etc. match based on Unicode character\n",
       "        properties. With this option, these sequences only match ASCII\n",
       "        characters.\n",
       "\n",
       "\u001b[1m  Examples\u001b[22m\n",
       "\u001b[1m  ≡≡≡≡≡≡≡≡≡≡\u001b[22m\n",
       "\n",
       "\u001b[36m  julia> match(r\"a+.*b+.*?d$\"ism, \"Goodbye,\\nOh, angry,\\nBad world\\n\")\u001b[39m\n",
       "\u001b[36m  RegexMatch(\"angry,\\nBad world\")\u001b[39m\n",
       "\n",
       "  This regex has the first three flags enabled."
      ]
     },
     "execution_count": 55,
     "metadata": {},
     "output_type": "execute_result"
    }
   ],
   "source": [
    "@doc @r_str"
   ]
  },
  {
   "cell_type": "code",
   "execution_count": 56,
   "metadata": {},
   "outputs": [
    {
     "data": {
      "text/markdown": [
       "```\n",
       "@raw_str -> String\n",
       "```\n",
       "\n",
       "Create a raw string without interpolation and unescaping. The exception is that quotation marks still must be escaped. Backslashes escape both quotation marks and other backslashes, but only when a sequence of backslashes precedes a quote character. Thus, 2n backslashes followed by a quote encodes n backslashes and the end of the literal while 2n+1 backslashes followed by a quote encodes n backslashes followed by a quote character.\n",
       "\n",
       "# Examples\n",
       "\n",
       "```jldoctest\n",
       "julia> println(raw\"\\ $x\")\n",
       "\\ $x\n",
       "\n",
       "julia> println(raw\"\\\"\")\n",
       "\"\n",
       "\n",
       "julia> println(raw\"\\\\\\\"\")\n",
       "\\\"\n",
       "\n",
       "julia> println(raw\"\\\\x \\\\\\\"\")\n",
       "\\\\x \\\"\n",
       "```\n"
      ],
      "text/plain": [
       "\u001b[36m  @raw_str -> String\u001b[39m\n",
       "\n",
       "  Create a raw string without interpolation and unescaping. The exception is\n",
       "  that quotation marks still must be escaped. Backslashes escape both\n",
       "  quotation marks and other backslashes, but only when a sequence of\n",
       "  backslashes precedes a quote character. Thus, 2n backslashes followed by a\n",
       "  quote encodes n backslashes and the end of the literal while 2n+1\n",
       "  backslashes followed by a quote encodes n backslashes followed by a quote\n",
       "  character.\n",
       "\n",
       "\u001b[1m  Examples\u001b[22m\n",
       "\u001b[1m  ≡≡≡≡≡≡≡≡≡≡\u001b[22m\n",
       "\n",
       "\u001b[36m  julia> println(raw\"\\ $x\")\u001b[39m\n",
       "\u001b[36m  \\ $x\u001b[39m\n",
       "\u001b[36m  \u001b[39m\n",
       "\u001b[36m  julia> println(raw\"\\\"\")\u001b[39m\n",
       "\u001b[36m  \"\u001b[39m\n",
       "\u001b[36m  \u001b[39m\n",
       "\u001b[36m  julia> println(raw\"\\\\\\\"\")\u001b[39m\n",
       "\u001b[36m  \\\"\u001b[39m\n",
       "\u001b[36m  \u001b[39m\n",
       "\u001b[36m  julia> println(raw\"\\\\x \\\\\\\"\")\u001b[39m\n",
       "\u001b[36m  \\\\x \\\"\u001b[39m"
      ]
     },
     "execution_count": 56,
     "metadata": {},
     "output_type": "execute_result"
    }
   ],
   "source": [
    "@doc @raw_str"
   ]
  },
  {
   "cell_type": "code",
   "execution_count": 57,
   "metadata": {},
   "outputs": [
    {
     "data": {
      "text/markdown": [
       "```\n",
       "@static\n",
       "```\n",
       "\n",
       "Partially evaluate an expression at parse time.\n",
       "\n",
       "For example, `@static Sys.iswindows() ? foo : bar` will evaluate `Sys.iswindows()` and insert either `foo` or `bar` into the expression. This is useful in cases where a construct would be invalid on other platforms, such as a `ccall` to a non-existent function. `@static if Sys.isapple() foo end` and `@static foo <&&,||> bar` are also valid syntax.\n"
      ],
      "text/plain": [
       "\u001b[36m  @static\u001b[39m\n",
       "\n",
       "  Partially evaluate an expression at parse time.\n",
       "\n",
       "  For example, \u001b[36m@static Sys.iswindows() ? foo : bar\u001b[39m will evaluate\n",
       "  \u001b[36mSys.iswindows()\u001b[39m and insert either \u001b[36mfoo\u001b[39m or \u001b[36mbar\u001b[39m into the expression. This is\n",
       "  useful in cases where a construct would be invalid on other platforms, such\n",
       "  as a \u001b[36mccall\u001b[39m to a non-existent function. \u001b[36m@static if Sys.isapple() foo end\u001b[39m and\n",
       "  \u001b[36m@static foo <&&,||> bar\u001b[39m are also valid syntax."
      ]
     },
     "execution_count": 57,
     "metadata": {},
     "output_type": "execute_result"
    }
   ],
   "source": [
    "@doc @static"
   ]
  },
  {
   "cell_type": "code",
   "execution_count": 58,
   "metadata": {},
   "outputs": [
    {
     "data": {
      "text/markdown": [
       "```\n",
       "@sync\n",
       "```\n",
       "\n",
       "Wait until all lexically-enclosed uses of `@async`, `@spawn`, `@spawnat` and `@distributed` are complete. All exceptions thrown by enclosed async operations are collected and thrown as a `CompositeException`.\n"
      ],
      "text/plain": [
       "\u001b[36m  @sync\u001b[39m\n",
       "\n",
       "  Wait until all lexically-enclosed uses of \u001b[36m@async\u001b[39m, \u001b[36m@spawn\u001b[39m, \u001b[36m@spawnat\u001b[39m and\n",
       "  \u001b[36m@distributed\u001b[39m are complete. All exceptions thrown by enclosed async\n",
       "  operations are collected and thrown as a \u001b[36mCompositeException\u001b[39m."
      ]
     },
     "execution_count": 58,
     "metadata": {},
     "output_type": "execute_result"
    }
   ],
   "source": [
    "@doc @sync"
   ]
  },
  {
   "cell_type": "code",
   "execution_count": 59,
   "metadata": {},
   "outputs": [
    {
     "data": {
      "text/markdown": [
       "```\n",
       "@task\n",
       "```\n",
       "\n",
       "Wrap an expression in a [`Task`](@ref) without executing it, and return the [`Task`](@ref). This only creates a task, and does not run it.\n",
       "\n",
       "# Examples\n",
       "\n",
       "```jldoctest\n",
       "julia> a1() = sum(i for i in 1:1000);\n",
       "\n",
       "julia> b = @task a1();\n",
       "\n",
       "julia> istaskstarted(b)\n",
       "false\n",
       "\n",
       "julia> schedule(b);\n",
       "\n",
       "julia> yield();\n",
       "\n",
       "julia> istaskdone(b)\n",
       "true\n",
       "```\n"
      ],
      "text/plain": [
       "\u001b[36m  @task\u001b[39m\n",
       "\n",
       "  Wrap an expression in a \u001b[36mTask\u001b[39m without executing it, and return the \u001b[36mTask\u001b[39m. This\n",
       "  only creates a task, and does not run it.\n",
       "\n",
       "\u001b[1m  Examples\u001b[22m\n",
       "\u001b[1m  ≡≡≡≡≡≡≡≡≡≡\u001b[22m\n",
       "\n",
       "\u001b[36m  julia> a1() = sum(i for i in 1:1000);\u001b[39m\n",
       "\u001b[36m  \u001b[39m\n",
       "\u001b[36m  julia> b = @task a1();\u001b[39m\n",
       "\u001b[36m  \u001b[39m\n",
       "\u001b[36m  julia> istaskstarted(b)\u001b[39m\n",
       "\u001b[36m  false\u001b[39m\n",
       "\u001b[36m  \u001b[39m\n",
       "\u001b[36m  julia> schedule(b);\u001b[39m\n",
       "\u001b[36m  \u001b[39m\n",
       "\u001b[36m  julia> yield();\u001b[39m\n",
       "\u001b[36m  \u001b[39m\n",
       "\u001b[36m  julia> istaskdone(b)\u001b[39m\n",
       "\u001b[36m  true\u001b[39m"
      ]
     },
     "execution_count": 59,
     "metadata": {},
     "output_type": "execute_result"
    }
   ],
   "source": [
    "@doc @task"
   ]
  },
  {
   "cell_type": "code",
   "execution_count": 60,
   "metadata": {},
   "outputs": [
    {
     "data": {
      "text/markdown": [
       "```\n",
       "@text_str -> Docs.Text\n",
       "```\n",
       "\n",
       "Create a `Text` object from a literal string.\n"
      ],
      "text/plain": [
       "\u001b[36m  @text_str -> Docs.Text\u001b[39m\n",
       "\n",
       "  Create a \u001b[36mText\u001b[39m object from a literal string."
      ]
     },
     "execution_count": 60,
     "metadata": {},
     "output_type": "execute_result"
    }
   ],
   "source": [
    "@doc @text_str"
   ]
  },
  {
   "cell_type": "code",
   "execution_count": 61,
   "metadata": {},
   "outputs": [
    {
     "data": {
      "text/markdown": [
       "```\n",
       "@threadcall((cfunc, clib), rettype, (argtypes...), argvals...)\n",
       "```\n",
       "\n",
       "The `@threadcall` macro is called in the same way as [`ccall`](@ref) but does the work in a different thread. This is useful when you want to call a blocking C function without causing the main `julia` thread to become blocked. Concurrency is limited by size of the libuv thread pool, which defaults to 4 threads but can be increased by setting the `UV_THREADPOOL_SIZE` environment variable and restarting the `julia` process.\n",
       "\n",
       "Note that the called function should never call back into Julia.\n"
      ],
      "text/plain": [
       "\u001b[36m  @threadcall((cfunc, clib), rettype, (argtypes...), argvals...)\u001b[39m\n",
       "\n",
       "  The \u001b[36m@threadcall\u001b[39m macro is called in the same way as \u001b[36mccall\u001b[39m but does the work\n",
       "  in a different thread. This is useful when you want to call a blocking C\n",
       "  function without causing the main \u001b[36mjulia\u001b[39m thread to become blocked.\n",
       "  Concurrency is limited by size of the libuv thread pool, which defaults to 4\n",
       "  threads but can be increased by setting the \u001b[36mUV_THREADPOOL_SIZE\u001b[39m environment\n",
       "  variable and restarting the \u001b[36mjulia\u001b[39m process.\n",
       "\n",
       "  Note that the called function should never call back into Julia."
      ]
     },
     "execution_count": 61,
     "metadata": {},
     "output_type": "execute_result"
    }
   ],
   "source": [
    "@doc @threadcall"
   ]
  },
  {
   "cell_type": "code",
   "execution_count": 62,
   "metadata": {},
   "outputs": [
    {
     "data": {
      "text/markdown": [
       "```\n",
       "@time\n",
       "```\n",
       "\n",
       "A macro to execute an expression, printing the time it took to execute, the number of allocations, and the total number of bytes its execution caused to be allocated, before returning the value of the expression.\n",
       "\n",
       "See also [`@timev`](@ref), [`@timed`](@ref), [`@elapsed`](@ref), and [`@allocated`](@ref).\n",
       "\n",
       "```julia-repl\n",
       "julia> @time rand(10^6);\n",
       "  0.001525 seconds (7 allocations: 7.630 MiB)\n",
       "\n",
       "julia> @time begin\n",
       "           sleep(0.3)\n",
       "           1+1\n",
       "       end\n",
       "  0.301395 seconds (8 allocations: 336 bytes)\n",
       "2\n",
       "```\n"
      ],
      "text/plain": [
       "\u001b[36m  @time\u001b[39m\n",
       "\n",
       "  A macro to execute an expression, printing the time it took to execute, the\n",
       "  number of allocations, and the total number of bytes its execution caused to\n",
       "  be allocated, before returning the value of the expression.\n",
       "\n",
       "  See also \u001b[36m@timev\u001b[39m, \u001b[36m@timed\u001b[39m, \u001b[36m@elapsed\u001b[39m, and \u001b[36m@allocated\u001b[39m.\n",
       "\n",
       "\u001b[36m  julia> @time rand(10^6);\u001b[39m\n",
       "\u001b[36m    0.001525 seconds (7 allocations: 7.630 MiB)\u001b[39m\n",
       "\u001b[36m  \u001b[39m\n",
       "\u001b[36m  julia> @time begin\u001b[39m\n",
       "\u001b[36m             sleep(0.3)\u001b[39m\n",
       "\u001b[36m             1+1\u001b[39m\n",
       "\u001b[36m         end\u001b[39m\n",
       "\u001b[36m    0.301395 seconds (8 allocations: 336 bytes)\u001b[39m\n",
       "\u001b[36m  2\u001b[39m"
      ]
     },
     "execution_count": 62,
     "metadata": {},
     "output_type": "execute_result"
    }
   ],
   "source": [
    "@doc @time"
   ]
  },
  {
   "cell_type": "code",
   "execution_count": 63,
   "metadata": {},
   "outputs": [
    {
     "data": {
      "text/markdown": [
       "```\n",
       "@timed\n",
       "```\n",
       "\n",
       "A macro to execute an expression, and return the value of the expression, elapsed time, total bytes allocated, garbage collection time, and an object with various memory allocation counters.\n",
       "\n",
       "See also [`@time`](@ref), [`@timev`](@ref), [`@elapsed`](@ref), and [`@allocated`](@ref).\n",
       "\n",
       "```julia-repl\n",
       "julia> val, t, bytes, gctime, memallocs = @timed rand(10^6);\n",
       "\n",
       "julia> t\n",
       "0.006634834\n",
       "\n",
       "julia> bytes\n",
       "8000256\n",
       "\n",
       "julia> gctime\n",
       "0.0055765\n",
       "\n",
       "julia> fieldnames(typeof(memallocs))\n",
       "(:allocd, :malloc, :realloc, :poolalloc, :bigalloc, :freecall, :total_time, :pause, :full_sweep)\n",
       "\n",
       "julia> memallocs.total_time\n",
       "5576500\n",
       "```\n"
      ],
      "text/plain": [
       "\u001b[36m  @timed\u001b[39m\n",
       "\n",
       "  A macro to execute an expression, and return the value of the expression,\n",
       "  elapsed time, total bytes allocated, garbage collection time, and an object\n",
       "  with various memory allocation counters.\n",
       "\n",
       "  See also \u001b[36m@time\u001b[39m, \u001b[36m@timev\u001b[39m, \u001b[36m@elapsed\u001b[39m, and \u001b[36m@allocated\u001b[39m.\n",
       "\n",
       "\u001b[36m  julia> val, t, bytes, gctime, memallocs = @timed rand(10^6);\u001b[39m\n",
       "\u001b[36m  \u001b[39m\n",
       "\u001b[36m  julia> t\u001b[39m\n",
       "\u001b[36m  0.006634834\u001b[39m\n",
       "\u001b[36m  \u001b[39m\n",
       "\u001b[36m  julia> bytes\u001b[39m\n",
       "\u001b[36m  8000256\u001b[39m\n",
       "\u001b[36m  \u001b[39m\n",
       "\u001b[36m  julia> gctime\u001b[39m\n",
       "\u001b[36m  0.0055765\u001b[39m\n",
       "\u001b[36m  \u001b[39m\n",
       "\u001b[36m  julia> fieldnames(typeof(memallocs))\u001b[39m\n",
       "\u001b[36m  (:allocd, :malloc, :realloc, :poolalloc, :bigalloc, :freecall, :total_time, :pause, :full_sweep)\u001b[39m\n",
       "\u001b[36m  \u001b[39m\n",
       "\u001b[36m  julia> memallocs.total_time\u001b[39m\n",
       "\u001b[36m  5576500\u001b[39m"
      ]
     },
     "execution_count": 63,
     "metadata": {},
     "output_type": "execute_result"
    }
   ],
   "source": [
    "@doc @timed"
   ]
  },
  {
   "cell_type": "code",
   "execution_count": 64,
   "metadata": {},
   "outputs": [
    {
     "data": {
      "text/markdown": [
       "```\n",
       "@timev\n",
       "```\n",
       "\n",
       "This is a verbose version of the `@time` macro. It first prints the same information as `@time`, then any non-zero memory allocation counters, and then returns the value of the expression.\n",
       "\n",
       "See also [`@time`](@ref), [`@timed`](@ref), [`@elapsed`](@ref), and [`@allocated`](@ref).\n",
       "\n",
       "```julia-repl\n",
       "julia> @timev rand(10^6);\n",
       "  0.001006 seconds (7 allocations: 7.630 MiB)\n",
       "elapsed time (ns): 1005567\n",
       "bytes allocated:   8000256\n",
       "pool allocs:       6\n",
       "malloc() calls:    1\n",
       "```\n"
      ],
      "text/plain": [
       "\u001b[36m  @timev\u001b[39m\n",
       "\n",
       "  This is a verbose version of the \u001b[36m@time\u001b[39m macro. It first prints the same\n",
       "  information as \u001b[36m@time\u001b[39m, then any non-zero memory allocation counters, and then\n",
       "  returns the value of the expression.\n",
       "\n",
       "  See also \u001b[36m@time\u001b[39m, \u001b[36m@timed\u001b[39m, \u001b[36m@elapsed\u001b[39m, and \u001b[36m@allocated\u001b[39m.\n",
       "\n",
       "\u001b[36m  julia> @timev rand(10^6);\u001b[39m\n",
       "\u001b[36m    0.001006 seconds (7 allocations: 7.630 MiB)\u001b[39m\n",
       "\u001b[36m  elapsed time (ns): 1005567\u001b[39m\n",
       "\u001b[36m  bytes allocated:   8000256\u001b[39m\n",
       "\u001b[36m  pool allocs:       6\u001b[39m\n",
       "\u001b[36m  malloc() calls:    1\u001b[39m"
      ]
     },
     "execution_count": 64,
     "metadata": {},
     "output_type": "execute_result"
    }
   ],
   "source": [
    "@doc @timev"
   ]
  },
  {
   "cell_type": "code",
   "execution_count": 65,
   "metadata": {},
   "outputs": [
    {
     "data": {
      "text/markdown": [
       "```\n",
       "@uint128_str str\n",
       "@uint128_str(str)\n",
       "```\n",
       "\n",
       "`@uint128_str` parses a string into a UInt128 Throws an `ArgumentError` if the string is not a valid integer\n"
      ],
      "text/plain": [
       "\u001b[36m  @uint128_str str\u001b[39m\n",
       "\u001b[36m  @uint128_str(str)\u001b[39m\n",
       "\n",
       "  \u001b[36m@uint128_str\u001b[39m parses a string into a UInt128 Throws an \u001b[36mArgumentError\u001b[39m if the\n",
       "  string is not a valid integer"
      ]
     },
     "execution_count": 65,
     "metadata": {},
     "output_type": "execute_result"
    }
   ],
   "source": [
    "@doc @uint128_str"
   ]
  },
  {
   "cell_type": "code",
   "execution_count": 66,
   "metadata": {},
   "outputs": [
    {
     "data": {
      "text/markdown": [
       "```\n",
       "@v_str\n",
       "```\n",
       "\n",
       "String macro used to parse a string to a [`VersionNumber`](@ref).\n",
       "\n",
       "# Examples\n",
       "\n",
       "```jldoctest\n",
       "julia> v\"1.2.3\"\n",
       "v\"1.2.3\"\n",
       "\n",
       "julia> v\"2.0.1-rc1\"\n",
       "v\"2.0.1-rc1\"\n",
       "```\n"
      ],
      "text/plain": [
       "\u001b[36m  @v_str\u001b[39m\n",
       "\n",
       "  String macro used to parse a string to a \u001b[36mVersionNumber\u001b[39m.\n",
       "\n",
       "\u001b[1m  Examples\u001b[22m\n",
       "\u001b[1m  ≡≡≡≡≡≡≡≡≡≡\u001b[22m\n",
       "\n",
       "\u001b[36m  julia> v\"1.2.3\"\u001b[39m\n",
       "\u001b[36m  v\"1.2.3\"\u001b[39m\n",
       "\u001b[36m  \u001b[39m\n",
       "\u001b[36m  julia> v\"2.0.1-rc1\"\u001b[39m\n",
       "\u001b[36m  v\"2.0.1-rc1\"\u001b[39m"
      ]
     },
     "execution_count": 66,
     "metadata": {},
     "output_type": "execute_result"
    }
   ],
   "source": [
    "@doc @v_str"
   ]
  },
  {
   "cell_type": "code",
   "execution_count": 67,
   "metadata": {},
   "outputs": [
    {
     "data": {
      "text/markdown": [
       "```\n",
       "@view A[inds...]\n",
       "```\n",
       "\n",
       "Creates a `SubArray` from an indexing expression. This can only be applied directly to a reference expression (e.g. `@view A[1,2:end]`), and should *not* be used as the target of an assignment (e.g. `@view(A[1,2:end]) = ...`).  See also [`@views`](@ref) to switch an entire block of code to use views for slicing.\n",
       "\n",
       "# Examples\n",
       "\n",
       "```jldoctest\n",
       "julia> A = [1 2; 3 4]\n",
       "2×2 Array{Int64,2}:\n",
       " 1  2\n",
       " 3  4\n",
       "\n",
       "julia> b = @view A[:, 1]\n",
       "2-element view(::Array{Int64,2}, :, 1) with eltype Int64:\n",
       " 1\n",
       " 3\n",
       "\n",
       "julia> fill!(b, 0)\n",
       "2-element view(::Array{Int64,2}, :, 1) with eltype Int64:\n",
       " 0\n",
       " 0\n",
       "\n",
       "julia> A\n",
       "2×2 Array{Int64,2}:\n",
       " 0  2\n",
       " 0  4\n",
       "```\n"
      ],
      "text/plain": [
       "\u001b[36m  @view A[inds...]\u001b[39m\n",
       "\n",
       "  Creates a \u001b[36mSubArray\u001b[39m from an indexing expression. This can only be applied\n",
       "  directly to a reference expression (e.g. \u001b[36m@view A[1,2:end]\u001b[39m), and should \u001b[4mnot\u001b[24m\n",
       "  be used as the target of an assignment (e.g. \u001b[36m@view(A[1,2:end]) = ...\u001b[39m). See\n",
       "  also \u001b[36m@views\u001b[39m to switch an entire block of code to use views for slicing.\n",
       "\n",
       "\u001b[1m  Examples\u001b[22m\n",
       "\u001b[1m  ≡≡≡≡≡≡≡≡≡≡\u001b[22m\n",
       "\n",
       "\u001b[36m  julia> A = [1 2; 3 4]\u001b[39m\n",
       "\u001b[36m  2×2 Array{Int64,2}:\u001b[39m\n",
       "\u001b[36m   1  2\u001b[39m\n",
       "\u001b[36m   3  4\u001b[39m\n",
       "\u001b[36m  \u001b[39m\n",
       "\u001b[36m  julia> b = @view A[:, 1]\u001b[39m\n",
       "\u001b[36m  2-element view(::Array{Int64,2}, :, 1) with eltype Int64:\u001b[39m\n",
       "\u001b[36m   1\u001b[39m\n",
       "\u001b[36m   3\u001b[39m\n",
       "\u001b[36m  \u001b[39m\n",
       "\u001b[36m  julia> fill!(b, 0)\u001b[39m\n",
       "\u001b[36m  2-element view(::Array{Int64,2}, :, 1) with eltype Int64:\u001b[39m\n",
       "\u001b[36m   0\u001b[39m\n",
       "\u001b[36m   0\u001b[39m\n",
       "\u001b[36m  \u001b[39m\n",
       "\u001b[36m  julia> A\u001b[39m\n",
       "\u001b[36m  2×2 Array{Int64,2}:\u001b[39m\n",
       "\u001b[36m   0  2\u001b[39m\n",
       "\u001b[36m   0  4\u001b[39m"
      ]
     },
     "execution_count": 67,
     "metadata": {},
     "output_type": "execute_result"
    }
   ],
   "source": [
    "@doc @view\n",
    "#参照するだけ"
   ]
  },
  {
   "cell_type": "code",
   "execution_count": 68,
   "metadata": {},
   "outputs": [
    {
     "data": {
      "text/markdown": [
       "```\n",
       "@views expression\n",
       "```\n",
       "\n",
       "Convert every array-slicing operation in the given expression (which may be a `begin`/`end` block, loop, function, etc.) to return a view. Scalar indices, non-array types, and explicit `getindex` calls (as opposed to `array[...]`) are unaffected.\n",
       "\n",
       "!!! note\n",
       "    The `@views` macro only affects `array[...]` expressions that appear explicitly in the given `expression`, not array slicing that occurs in functions called by that code.\n",
       "\n",
       "\n",
       "# Examples\n",
       "\n",
       "```jldoctest\n",
       "julia> A = zeros(3, 3);\n",
       "\n",
       "julia> @views for row in 1:3\n",
       "           b = A[row, :]\n",
       "           b[:] .= row\n",
       "       end\n",
       "\n",
       "julia> A\n",
       "3×3 Array{Float64,2}:\n",
       " 1.0  1.0  1.0\n",
       " 2.0  2.0  2.0\n",
       " 3.0  3.0  3.0\n",
       "```\n"
      ],
      "text/plain": [
       "\u001b[36m  @views expression\u001b[39m\n",
       "\n",
       "  Convert every array-slicing operation in the given expression (which may be\n",
       "  a \u001b[36mbegin\u001b[39m/\u001b[36mend\u001b[39m block, loop, function, etc.) to return a view. Scalar indices,\n",
       "  non-array types, and explicit \u001b[36mgetindex\u001b[39m calls (as opposed to \u001b[36marray[...]\u001b[39m) are\n",
       "  unaffected.\n",
       "\n",
       "\u001b[36m\u001b[1m  │ \u001b[22m\u001b[39m\u001b[36m\u001b[1mNote\u001b[22m\u001b[39m\n",
       "\u001b[36m\u001b[1m  │\u001b[22m\u001b[39m\n",
       "\u001b[36m\u001b[1m  │\u001b[22m\u001b[39m  The \u001b[36m@views\u001b[39m macro only affects \u001b[36marray[...]\u001b[39m expressions that appear\n",
       "\u001b[36m\u001b[1m  │\u001b[22m\u001b[39m  explicitly in the given \u001b[36mexpression\u001b[39m, not array slicing that occurs\n",
       "\u001b[36m\u001b[1m  │\u001b[22m\u001b[39m  in functions called by that code.\n",
       "\n",
       "\u001b[1m  Examples\u001b[22m\n",
       "\u001b[1m  ≡≡≡≡≡≡≡≡≡≡\u001b[22m\n",
       "\n",
       "\u001b[36m  julia> A = zeros(3, 3);\u001b[39m\n",
       "\u001b[36m  \u001b[39m\n",
       "\u001b[36m  julia> @views for row in 1:3\u001b[39m\n",
       "\u001b[36m             b = A[row, :]\u001b[39m\n",
       "\u001b[36m             b[:] .= row\u001b[39m\n",
       "\u001b[36m         end\u001b[39m\n",
       "\u001b[36m  \u001b[39m\n",
       "\u001b[36m  julia> A\u001b[39m\n",
       "\u001b[36m  3×3 Array{Float64,2}:\u001b[39m\n",
       "\u001b[36m   1.0  1.0  1.0\u001b[39m\n",
       "\u001b[36m   2.0  2.0  2.0\u001b[39m\n",
       "\u001b[36m   3.0  3.0  3.0\u001b[39m"
      ]
     },
     "execution_count": 68,
     "metadata": {},
     "output_type": "execute_result"
    }
   ],
   "source": [
    "@doc @views"
   ]
  },
  {
   "cell_type": "code",
   "execution_count": 69,
   "metadata": {},
   "outputs": [
    {
     "data": {
      "text/markdown": [
       "```\n",
       "@debug message  [key=value | value ...]\n",
       "@info  message  [key=value | value ...]\n",
       "@warn  message  [key=value | value ...]\n",
       "@error message  [key=value | value ...]\n",
       "\n",
       "@logmsg level message [key=value | value ...]\n",
       "```\n",
       "\n",
       "Create a log record with an informational `message`.  For convenience, four logging macros `@debug`, `@info`, `@warn` and `@error` are defined which log at the standard severity levels `Debug`, `Info`, `Warn` and `Error`.  `@logmsg` allows `level` to be set programmatically to any `LogLevel` or custom log level types.\n",
       "\n",
       "`message` should be an expression which evaluates to a string which is a human readable description of the log event.  By convention, this string will be formatted as markdown when presented.\n",
       "\n",
       "The optional list of `key=value` pairs supports arbitrary user defined metadata which will be passed through to the logging backend as part of the log record.  If only a `value` expression is supplied, a key representing the expression will be generated using `Symbol`. For example, `x` becomes `x=x`, and `foo(10)` becomes `Symbol(\"foo(10)\")=foo(10)`.  For splatting a list of key value pairs, use the normal splatting syntax, `@info \"blah\" kws...`.\n",
       "\n",
       "There are some keys which allow automatically generated log data to be overridden:\n",
       "\n",
       "  * `_module=mod` can be used to specify a different originating module from the source location of the message.\n",
       "  * `_group=symbol` can be used to override the message group (this is normally derived from the base name of the source file).\n",
       "  * `_id=symbol` can be used to override the automatically generated unique message identifier.  This is useful if you need to very closely associate messages generated on different source lines.\n",
       "  * `_file=string` and `_line=integer` can be used to override the apparent source location of a log message.\n",
       "\n",
       "There's also some key value pairs which have conventional meaning:\n",
       "\n",
       "  * `maxlog=integer` should be used as a hint to the backend that the message should be displayed no more than `maxlog` times.\n",
       "  * `exception=ex` should be used to transport an exception with a log message, often used with `@error`. An associated backtrace `bt` may be attached using the tuple `exception=(ex,bt)`.\n",
       "\n",
       "# Examples\n",
       "\n",
       "```\n",
       "@debug \"Verbose debugging information.  Invisible by default\"\n",
       "@info  \"An informational message\"\n",
       "@warn  \"Something was odd.  You should pay attention\"\n",
       "@error \"A non fatal error occurred\"\n",
       "\n",
       "x = 10\n",
       "@info \"Some variables attached to the message\" x a=42.0\n",
       "\n",
       "@debug begin\n",
       "    sA = sum(A)\n",
       "    \"sum(A) = $sA is an expensive operation, evaluated only when `shouldlog` returns true\"\n",
       "end\n",
       "\n",
       "for i=1:10000\n",
       "    @info \"With the default backend, you will only see (i = $i) ten times\"  maxlog=10\n",
       "    @debug \"Algorithm1\" i progress=i/10000\n",
       "end\n",
       "```\n"
      ],
      "text/plain": [
       "\u001b[36m  @debug message  [key=value | value ...]\u001b[39m\n",
       "\u001b[36m  @info  message  [key=value | value ...]\u001b[39m\n",
       "\u001b[36m  @warn  message  [key=value | value ...]\u001b[39m\n",
       "\u001b[36m  @error message  [key=value | value ...]\u001b[39m\n",
       "\u001b[36m  \u001b[39m\n",
       "\u001b[36m  @logmsg level message [key=value | value ...]\u001b[39m\n",
       "\n",
       "  Create a log record with an informational \u001b[36mmessage\u001b[39m. For convenience, four\n",
       "  logging macros \u001b[36m@debug\u001b[39m, \u001b[36m@info\u001b[39m, \u001b[36m@warn\u001b[39m and \u001b[36m@error\u001b[39m are defined which log at the\n",
       "  standard severity levels \u001b[36mDebug\u001b[39m, \u001b[36mInfo\u001b[39m, \u001b[36mWarn\u001b[39m and \u001b[36mError\u001b[39m. \u001b[36m@logmsg\u001b[39m allows \u001b[36mlevel\u001b[39m\n",
       "  to be set programmatically to any \u001b[36mLogLevel\u001b[39m or custom log level types.\n",
       "\n",
       "  \u001b[36mmessage\u001b[39m should be an expression which evaluates to a string which is a human\n",
       "  readable description of the log event. By convention, this string will be\n",
       "  formatted as markdown when presented.\n",
       "\n",
       "  The optional list of \u001b[36mkey=value\u001b[39m pairs supports arbitrary user defined\n",
       "  metadata which will be passed through to the logging backend as part of the\n",
       "  log record. If only a \u001b[36mvalue\u001b[39m expression is supplied, a key representing the\n",
       "  expression will be generated using \u001b[36mSymbol\u001b[39m. For example, \u001b[36mx\u001b[39m becomes \u001b[36mx=x\u001b[39m, and\n",
       "  \u001b[36mfoo(10)\u001b[39m becomes \u001b[36mSymbol(\"foo(10)\")=foo(10)\u001b[39m. For splatting a list of key value\n",
       "  pairs, use the normal splatting syntax, \u001b[36m@info \"blah\" kws...\u001b[39m.\n",
       "\n",
       "  There are some keys which allow automatically generated log data to be\n",
       "  overridden:\n",
       "\n",
       "    •    \u001b[36m_module=mod\u001b[39m can be used to specify a different originating module\n",
       "        from the source location of the message.\n",
       "\n",
       "    •    \u001b[36m_group=symbol\u001b[39m can be used to override the message group (this is\n",
       "        normally derived from the base name of the source file).\n",
       "\n",
       "    •    \u001b[36m_id=symbol\u001b[39m can be used to override the automatically generated\n",
       "        unique message identifier. This is useful if you need to very\n",
       "        closely associate messages generated on different source lines.\n",
       "\n",
       "    •    \u001b[36m_file=string\u001b[39m and \u001b[36m_line=integer\u001b[39m can be used to override the\n",
       "        apparent source location of a log message.\n",
       "\n",
       "  There's also some key value pairs which have conventional meaning:\n",
       "\n",
       "    •    \u001b[36mmaxlog=integer\u001b[39m should be used as a hint to the backend that the\n",
       "        message should be displayed no more than \u001b[36mmaxlog\u001b[39m times.\n",
       "\n",
       "    •    \u001b[36mexception=ex\u001b[39m should be used to transport an exception with a log\n",
       "        message, often used with \u001b[36m@error\u001b[39m. An associated backtrace \u001b[36mbt\u001b[39m may be\n",
       "        attached using the tuple \u001b[36mexception=(ex,bt)\u001b[39m.\n",
       "\n",
       "\u001b[1m  Examples\u001b[22m\n",
       "\u001b[1m  ≡≡≡≡≡≡≡≡≡≡\u001b[22m\n",
       "\n",
       "\u001b[36m  @debug \"Verbose debugging information.  Invisible by default\"\u001b[39m\n",
       "\u001b[36m  @info  \"An informational message\"\u001b[39m\n",
       "\u001b[36m  @warn  \"Something was odd.  You should pay attention\"\u001b[39m\n",
       "\u001b[36m  @error \"A non fatal error occurred\"\u001b[39m\n",
       "\u001b[36m  \u001b[39m\n",
       "\u001b[36m  x = 10\u001b[39m\n",
       "\u001b[36m  @info \"Some variables attached to the message\" x a=42.0\u001b[39m\n",
       "\u001b[36m  \u001b[39m\n",
       "\u001b[36m  @debug begin\u001b[39m\n",
       "\u001b[36m      sA = sum(A)\u001b[39m\n",
       "\u001b[36m      \"sum(A) = $sA is an expensive operation, evaluated only when `shouldlog` returns true\"\u001b[39m\n",
       "\u001b[36m  end\u001b[39m\n",
       "\u001b[36m  \u001b[39m\n",
       "\u001b[36m  for i=1:10000\u001b[39m\n",
       "\u001b[36m      @info \"With the default backend, you will only see (i = $i) ten times\"  maxlog=10\u001b[39m\n",
       "\u001b[36m      @debug \"Algorithm1\" i progress=i/10000\u001b[39m\n",
       "\u001b[36m  end\u001b[39m"
      ]
     },
     "execution_count": 69,
     "metadata": {},
     "output_type": "execute_result"
    }
   ],
   "source": [
    "@doc @warn"
   ]
  },
  {
   "cell_type": "code",
   "execution_count": 70,
   "metadata": {},
   "outputs": [
    {
     "data": {
      "text/markdown": [
       "```\n",
       "@which\n",
       "```\n",
       "\n",
       "Applied to a function or macro call, it evaluates the arguments to the specified call, and returns the `Method` object for the method that would be called for those arguments. Applied to a variable, it returns the module in which the variable was bound. It calls out to the `which` function.\n"
      ],
      "text/plain": [
       "\u001b[36m  @which\u001b[39m\n",
       "\n",
       "  Applied to a function or macro call, it evaluates the arguments to the\n",
       "  specified call, and returns the \u001b[36mMethod\u001b[39m object for the method that would be\n",
       "  called for those arguments. Applied to a variable, it returns the module in\n",
       "  which the variable was bound. It calls out to the \u001b[36mwhich\u001b[39m function."
      ]
     },
     "execution_count": 70,
     "metadata": {},
     "output_type": "execute_result"
    }
   ],
   "source": [
    "@doc @which"
   ]
  }
 ],
 "metadata": {
  "kernelspec": {
   "display_name": "Julia 1.0.0",
   "language": "julia",
   "name": "julia-1.0"
  },
  "language_info": {
   "file_extension": ".jl",
   "mimetype": "application/julia",
   "name": "julia",
   "version": "1.0.0"
  }
 },
 "nbformat": 4,
 "nbformat_minor": 2
}
